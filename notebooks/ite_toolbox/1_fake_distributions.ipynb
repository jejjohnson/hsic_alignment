{
 "cells": [
  {
   "cell_type": "markdown",
   "metadata": {},
   "source": [
    "# Simulated Distributions\n",
    "\n",
    "In this notebook, I will walk through some of the distributions we used in order to generate some fake data."
   ]
  },
  {
   "cell_type": "code",
   "execution_count": 1,
   "metadata": {},
   "outputs": [],
   "source": [
    "import sys, os\n",
    "cwd = os.getcwd()\n",
    "sys.path.insert(0, f'{cwd}/../../src')\n",
    "sys.path.insert(0, f'{cwd}/../../src/itetoolbox')\n",
    "\n",
    "import numpy as np\n",
    "import ite\n",
    "from sklearn.utils import check_random_state\n",
    "from data.toy import entropy_marginal\n",
    "\n",
    "%matplotlib inline\n",
    "%load_ext autoreload\n",
    "%autoreload 2"
   ]
  },
  {
   "cell_type": "markdown",
   "metadata": {},
   "source": [
    "## Code"
   ]
  },
  {
   "cell_type": "markdown",
   "metadata": {},
   "source": [
    "### Distribution Class Generator"
   ]
  },
  {
   "cell_type": "code",
   "execution_count": 52,
   "metadata": {},
   "outputs": [],
   "source": [
    "class DistData:\n",
    "    def __init__(\n",
    "        self,\n",
    "        n_samples: int=1000,\n",
    "        d_dimensions: int=3,\n",
    "        distribution: str=\"gauss\",\n",
    "        mu: float=0.0,\n",
    "        sigma: float=1.0,\n",
    "        weight: float=2.0,\n",
    "        bias: float=0.5,\n",
    "        nu: float=1.0,\n",
    "        gauss_state: int=123,\n",
    "        dim_state: int=111,\n",
    "        trans_state: int=123,\n",
    "    )-> None:\n",
    "        self.n_samples = n_samples\n",
    "        self.d_dimensions = d_dimensions\n",
    "        self.distribution = distribution\n",
    "        self.mu = mu\n",
    "        self.sigma = sigma\n",
    "        self.weight = weight\n",
    "        self.bias = bias\n",
    "        self.nu = nu\n",
    "        self.gauss = check_random_state(gauss_state)\n",
    "        self.dim_state = check_random_state(dim_state)\n",
    "        self.trans_state = check_random_state(trans_state)\n",
    "\n",
    "    def data(self):\n",
    "\n",
    "        if self.distribution == \"gauss\":\n",
    "\n",
    "            # generate data Gaussian data\n",
    "            self.samples = self.mu + self.sigma * self.gauss.randn(self.n_samples, self.d_dimensions)\n",
    "            \n",
    "            # random rotation (uniformly distributed)\n",
    "            self.A = self.trans_state.rand(self.d_dimensions, self.d_dimensions)\n",
    "            \n",
    "            # output data\n",
    "            self.X = self.samples @ self.A\n",
    "        \n",
    "        elif self.distribution == 'linear':\n",
    "            \n",
    "            # generate data from normal dist\n",
    "            self.samples= self.mu + self.sigma * self.gauss.randn(self.n_samples, self.d_dimensions)\n",
    "            \n",
    "            # random rotation (uniformly distributed)\n",
    "            d_rot = self.dim_state.randn(1, self.d_dimensions)\n",
    "            \n",
    "            # linear transformation on all dimensions\n",
    "            for idim in range(self.d_dimensions):\n",
    "                exponent = self.weight * d_rot[:, idim] + self.bias\n",
    "                self.samples[:, idim] = np.sign(self.samples[:, idim]) * np.abs(self.samples[:, idim])**exponent\n",
    "            \n",
    "            # random rotation (uniformly distributed)\n",
    "            self.A = self.trans_state.rand(self.d_dimensions, self.d_dimensions)\n",
    "            self.X = self.samples @ self.A\n",
    "            \n",
    "        else:\n",
    "            raise ValueError(\"Unrecognized distribution...\")\n",
    "\n",
    "        return self.X\n",
    "    \n",
    "    def entropy(self):\n",
    "        \n",
    "        if self.distribution == \"gauss\":\n",
    "            \n",
    "            # calculate entropy\n",
    "            return entropy_marginal(self.X).sum() + np.linalg.slogdet(self.A)[1]\n",
    "        \n",
    "        if self.distribution == \"linear\":\n",
    "            \n",
    "            # calculate entropy\n",
    "            return entropy_marginal(self.X).sum() + np.linalg.slogdet(self.A)[1]\n",
    "        else:\n",
    "            raise ValueError(\"Unrecognized distribution...\")\n"
   ]
  },
  {
   "cell_type": "markdown",
   "metadata": {},
   "source": [
    "### Distribution I - Rotated Gaussian Dataset"
   ]
  },
  {
   "cell_type": "code",
   "execution_count": 53,
   "metadata": {},
   "outputs": [
    {
     "name": "stdout",
     "output_type": "stream",
     "text": [
      "Entropy: 518.0578\n"
     ]
    }
   ],
   "source": [
    "random_state = 123\n",
    "mu = 0.0\n",
    "sigma = 1.0\n",
    "n_samples = 10000\n",
    "d_dimensions = 100\n",
    "distribution = 'gauss'\n",
    "\n",
    "# initialize class\n",
    "clf_datadist = DistData(\n",
    "    n_samples=n_samples,\n",
    "    mu = mu,\n",
    "    sigma = sigma,\n",
    "    d_dimensions=d_dimensions\n",
    "    \n",
    ")\n",
    "\n",
    "# generate samples\n",
    "X = clf_datadist.data()\n",
    "\n",
    "# calculate entropy\n",
    "H_x = clf_datadist.entropy()\n",
    "\n",
    "print(f\"Entropy: {H_x:.4f}\")"
   ]
  },
  {
   "cell_type": "markdown",
   "metadata": {},
   "source": [
    "### Distribution II - Rotated Linear Dataset"
   ]
  },
  {
   "cell_type": "code",
   "execution_count": 54,
   "metadata": {},
   "outputs": [
    {
     "name": "stdout",
     "output_type": "stream",
     "text": [
      "Entropy: 4602.8497\n"
     ]
    }
   ],
   "source": [
    "random_state = 123\n",
    "mu = 0.0\n",
    "sigma = 1.0\n",
    "n_samples = 10000\n",
    "d_dimensions = 100\n",
    "distribution = 'linear'\n",
    "\n",
    "# initialize class\n",
    "clf_datadist = DistData(\n",
    "    n_samples=n_samples,\n",
    "    mu = mu,\n",
    "    sigma = sigma,\n",
    "    d_dimensions=d_dimensions,\n",
    "    distribution=distribution\n",
    "    \n",
    ")\n",
    "\n",
    "# generate samples\n",
    "X = clf_datadist.data()\n",
    "\n",
    "# calculate entropy\n",
    "H_x = clf_datadist.entropy()\n",
    "\n",
    "print(f\"Entropy: {H_x:.4f}\")"
   ]
  },
  {
   "cell_type": "code",
   "execution_count": null,
   "metadata": {},
   "outputs": [],
   "source": []
  }
 ],
 "metadata": {
  "kernelspec": {
   "display_name": "Python [conda env:.conda-it4dnn]",
   "language": "python",
   "name": "conda-env-.conda-it4dnn-py"
  },
  "language_info": {
   "codemirror_mode": {
    "name": "ipython",
    "version": 3
   },
   "file_extension": ".py",
   "mimetype": "text/x-python",
   "name": "python",
   "nbconvert_exporter": "python",
   "pygments_lexer": "ipython3",
   "version": "3.6.9"
  }
 },
 "nbformat": 4,
 "nbformat_minor": 2
}
