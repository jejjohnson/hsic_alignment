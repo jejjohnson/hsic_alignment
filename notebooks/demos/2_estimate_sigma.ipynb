{
 "cells": [
  {
   "cell_type": "markdown",
   "metadata": {},
   "source": [
    "# HSIC and Tangent Kernel Alignment"
   ]
  },
  {
   "cell_type": "code",
   "execution_count": 54,
   "metadata": {},
   "outputs": [
    {
     "name": "stdout",
     "output_type": "stream",
     "text": [
      "The autoreload extension is already loaded. To reload it, use:\n",
      "  %reload_ext autoreload\n"
     ]
    }
   ],
   "source": [
    "import sys, os\n",
    "import warnings\n",
    "import tqdm\n",
    "import random\n",
    "import pandas as pd\n",
    "import numpy as np\n",
    "\n",
    "import matplotlib\n",
    "import matplotlib.pyplot as plt\n",
    "\n",
    "# Insert path to model directory,.\n",
    "cwd = os.getcwd()\n",
    "path = f\"{cwd}/../../src\"\n",
    "sys.path.insert(0, path)\n",
    "\n",
    "# Insert path to package,.\n",
    "pysim_path = f\"/home/emmanuel/code/pysim/\"\n",
    "sys.path.insert(0, pysim_path)\n",
    "\n",
    "# toy datasets\n",
    "from data.toy import generate_dependence_data\n",
    "from data.distribution import DataParams\n",
    "from dataclasses import dataclass\n",
    "\n",
    "# Kernel Dependency measure\n",
    "from models.dependence import HSICModel\n",
    "from pysim.kernel.utils import get_init_gammas, get_gamma_grid, estimate_sigma\n",
    "\n",
    "import matplotlib.pyplot as plt\n",
    "import seaborn as sns\n",
    "plt.style.use(['seaborn-talk'])\n",
    "%matplotlib inline\n",
    "\n",
    "warnings.filterwarnings('ignore') # get rid of annoying warnings\n",
    "\n",
    "%load_ext autoreload\n",
    "%autoreload 2"
   ]
  },
  {
   "cell_type": "markdown",
   "metadata": {},
   "source": [
    "## Data I - 1D Dataset\n"
   ]
  },
  {
   "cell_type": "code",
   "execution_count": 18,
   "metadata": {},
   "outputs": [
    {
     "data": {
      "image/png": "[encoded data removed]",
      "text/plain": [
       "<Figure size 432x288 with 1 Axes>"
      ]
     },
     "metadata": {
      "needs_background": "light"
     },
     "output_type": "display_data"
    }
   ],
   "source": [
    "# data params\n",
    "dataset = 'sine'\n",
    "num_points = 1000\n",
    "seed = 123\n",
    "noise = 0.1\n",
    "\n",
    "# get dataset\n",
    "X, Y = generate_dependence_data(\n",
    "    dataset=dataset,\n",
    "    num_points=num_points,\n",
    "    seed=seed,\n",
    "    noise_x=noise,\n",
    "    noise_y=noise\n",
    ")\n",
    "\n",
    "# plot\n",
    "fig, ax = plt.subplots()\n",
    "\n",
    "ax.scatter(X, Y)\n",
    "plt.show()"
   ]
  },
  {
   "cell_type": "markdown",
   "metadata": {},
   "source": [
    "## HSIC"
   ]
  },
  {
   "cell_type": "code",
   "execution_count": 52,
   "metadata": {},
   "outputs": [],
   "source": [
    "def get_hsic(X, Y, scorer: str, sigma_X, sigma_Y):\n",
    "    \n",
    "    # init hsic model class\n",
    "    hsic_model = HSICModel()\n",
    "\n",
    "    # hsic model params\n",
    "    hsic_model.kernel_X = RBF(sigma_X)\n",
    "    hsic_model.kernel_Y = RBF(sigma_Y)\n",
    "\n",
    "    # get hsic score\n",
    "    hsic_val = hsic_model.get_score(inputs.X, inputs.Y, scorer)\n",
    "    \n",
    "    return hsic_val"
   ]
  },
  {
   "cell_type": "markdown",
   "metadata": {},
   "source": [
    "### Original HSIC "
   ]
  },
  {
   "cell_type": "code",
   "execution_count": 55,
   "metadata": {},
   "outputs": [
    {
     "name": "stdout",
     "output_type": "stream",
     "text": [
      "HSIC: 0.00092\n"
     ]
    }
   ],
   "source": [
    "# hsic value and kernel alignment score\n",
    "hsic_val = get_hsic(X, Y, 'hsic', sigma_X, sigma_Y)\n",
    "\n",
    "print(f\"HSIC: {hsic_val:.5f}\")"
   ]
  },
  {
   "cell_type": "markdown",
   "metadata": {},
   "source": [
    "### Kernel Tangent Alignment"
   ]
  },
  {
   "cell_type": "code",
   "execution_count": 22,
   "metadata": {},
   "outputs": [
    {
     "name": "stdout",
     "output_type": "stream",
     "text": [
      "TKA: 0.58843\n"
     ]
    }
   ],
   "source": [
    "\n",
    "\n",
    "# hsic value and kernel alignment score\n",
    "tka_val = clf_hsic.score(X, normalize=True)\n",
    "\n",
    "print(f\"TKA: {tka_val:.5f}\")"
   ]
  },
  {
   "cell_type": "markdown",
   "metadata": {},
   "source": [
    "#### Centered Kernel Tangent Alignment"
   ]
  },
  {
   "cell_type": "code",
   "execution_count": 5,
   "metadata": {},
   "outputs": [
    {
     "name": "stdout",
     "output_type": "stream",
     "text": [
      "TKA: 0.89475\n"
     ]
    }
   ],
   "source": [
    "# hsic params\n",
    "kernel = 'rbf'\n",
    "scorer = 'ctka'\n",
    "subsample = None\n",
    "bias = True\n",
    "\n",
    "# initialize HSIC calculator\n",
    "clf_hsic = HSIC(\n",
    "    kernel=kernel, \n",
    "    scorer=scorer, \n",
    "    subsample=subsample,\n",
    "    bias=bias\n",
    ")\n",
    "\n",
    "\n",
    "# calculate HSIC return scorer\n",
    "clf_hsic.fit(X, Y);\n",
    "\n",
    "# hsic value and kernel alignment score\n",
    "tka_val = clf_hsic.hsic_value\n",
    "\n",
    "print(f\"TKA: {tka_val:.5f}\")"
   ]
  },
  {
   "cell_type": "markdown",
   "metadata": {},
   "source": [
    "## Length Scale"
   ]
  },
  {
   "cell_type": "code",
   "execution_count": 9,
   "metadata": {},
   "outputs": [],
   "source": [
    "from sklearn.gaussian_process.kernels import RBF"
   ]
  },
  {
   "cell_type": "code",
   "execution_count": 41,
   "metadata": {},
   "outputs": [],
   "source": [
    "def get_sigma(X, Y, method: str='silverman', per_dimension: bool=False):\n",
    "    # sigma parameters\n",
    "    subsample = None\n",
    "    percent = 0.20\n",
    "    random_state = 123\n",
    "\n",
    "    sigma_X = estimate_sigma(\n",
    "        X, \n",
    "        subsample=subsample,\n",
    "        method=method,\n",
    "        percent=percent,\n",
    "        random_state=random_state,\n",
    "        per_dimension=per_dimension\n",
    "    )\n",
    "\n",
    "    sigma_Y = estimate_sigma(\n",
    "        Y, \n",
    "        subsample=subsample,\n",
    "        method=method,\n",
    "        percent=percent,\n",
    "        random_state=random_state,\n",
    "        per_dimension=per_dimension\n",
    "    )\n",
    "    return sigma_X, sigma_Y"
   ]
  },
  {
   "cell_type": "code",
   "execution_count": 35,
   "metadata": {},
   "outputs": [
    {
     "name": "stdout",
     "output_type": "stream",
     "text": [
      "Estimated Sigma X: 0.06444718787975247\n",
      "Estimated Sigma Y: 0.16119977831389598\n"
     ]
    }
   ],
   "source": [
    "# sigma parameters\n",
    "per_dimension = False\n",
    "method = 'silverman'\n",
    "sigma_X, sigma_Y = get_sigma(method, per_dimension)\n",
    "\n",
    "print(f\"Estimated Sigma X: {sigma_X}\")\n",
    "print(f\"Estimated Sigma Y: {sigma_Y}\")"
   ]
  },
  {
   "cell_type": "markdown",
   "metadata": {},
   "source": [
    "The code below showcases an easy way to find the best kernel parameters by maximizing the HSIC value. This can be done with cross validation and the automatic training helper function found below."
   ]
  },
  {
   "cell_type": "markdown",
   "metadata": {},
   "source": [
    "## Data II - 2D Example"
   ]
  },
  {
   "cell_type": "code",
   "execution_count": 73,
   "metadata": {},
   "outputs": [],
   "source": [
    "# initialize Data Params class\n",
    "dataset = 'tstudent'\n",
    "samples = 1_000\n",
    "dimensions = 2\n",
    "std = 5\n",
    "nu = 8\n",
    "trial = 1\n",
    "standardize = False\n",
    "\n",
    "# initialize params\n",
    "example_params = DataParams(\n",
    "    dataset=dataset,\n",
    "    samples=samples,\n",
    "    dimensions=dimensions,\n",
    "    std=std,\n",
    "    nu=nu,\n",
    "    trial=trial,\n",
    "    standardize=standardize\n",
    ")\n",
    "\n",
    "# generate some parameters\n",
    "inputs = example_params.generate_data()"
   ]
  },
  {
   "cell_type": "code",
   "execution_count": 74,
   "metadata": {},
   "outputs": [
    {
     "data": {
      "text/plain": [
       "<seaborn.axisgrid.JointGrid at 0x7fbd90a73340>"
      ]
     },
     "execution_count": 74,
     "metadata": {},
     "output_type": "execute_result"
    },
    {
     "data": {
      "image/png": "[encoded data removed]",
      "text/plain": [
       "<Figure size 432x432 with 3 Axes>"
      ]
     },
     "metadata": {
      "needs_background": "light"
     },
     "output_type": "display_data"
    }
   ],
   "source": [
    "sns.jointplot(x=inputs.X, y=inputs.Y)"
   ]
  },
  {
   "cell_type": "markdown",
   "metadata": {},
   "source": [
    "### Sigma Estimation"
   ]
  },
  {
   "cell_type": "markdown",
   "metadata": {},
   "source": [
    "#### Case I - Same Length Scale"
   ]
  },
  {
   "cell_type": "code",
   "execution_count": 75,
   "metadata": {},
   "outputs": [
    {
     "name": "stdout",
     "output_type": "stream",
     "text": [
      "Estimated Sigma X: 0.1949988419823719\n",
      "Estimated Sigma Y: 0.19638960920405135\n",
      "Estimated Sigma Y: 0.19569422559321165\n"
     ]
    }
   ],
   "source": [
    "# sigma parameters\n",
    "per_dimension = False\n",
    "method = 'silverman'\n",
    "sigma_X, sigma_Y = get_sigma(inputs.X, inputs.Y, method, per_dimension)\n",
    "\n",
    "sigma_mu = np.mean([sigma_X,sigma_Y])\n",
    "print(f\"Estimated Sigma X: {sigma_X}\")\n",
    "print(f\"Estimated Sigma Y: {sigma_Y}\")\n",
    "print(f\"Estimated Sigma Y: {sigma_mu}\")"
   ]
  },
  {
   "cell_type": "code",
   "execution_count": 76,
   "metadata": {},
   "outputs": [
    {
     "name": "stdout",
     "output_type": "stream",
     "text": [
      "HSIC: 0.00096\n",
      "CKA: 0.13180\n",
      "KA: 0.10091\n"
     ]
    }
   ],
   "source": [
    "# hsic value and kernel alignment score\n",
    "scorers = ['hsic', 'ka', 'cka']\n",
    "hsic_vals = [get_hsic(X, Y, iscorer, sigma_mu, sigma_mu) for iscorer in scorers]\n",
    "\n",
    "print(f\"HSIC: {hsic_vals[0]:.5f}\")\n",
    "print(f\"CKA: {hsic_vals[1]:.5f}\")\n",
    "print(f\"KA: {hsic_vals[2]:.5f}\")"
   ]
  },
  {
   "cell_type": "markdown",
   "metadata": {},
   "source": [
    "#### Case II - Different Length Scale"
   ]
  },
  {
   "cell_type": "code",
   "execution_count": 77,
   "metadata": {},
   "outputs": [
    {
     "name": "stdout",
     "output_type": "stream",
     "text": [
      "Estimated Sigma X: 0.1949988419823719\n",
      "Estimated Sigma Y: 0.19638960920405135\n"
     ]
    }
   ],
   "source": [
    "# sigma parameters\n",
    "per_dimension = False\n",
    "method = 'silverman'\n",
    "sigma_X, sigma_Y = get_sigma(inputs.X, inputs.Y, method, per_dimension)\n",
    "\n",
    "print(f\"Estimated Sigma X: {sigma_X}\")\n",
    "print(f\"Estimated Sigma Y: {sigma_Y}\")"
   ]
  },
  {
   "cell_type": "code",
   "execution_count": 78,
   "metadata": {},
   "outputs": [
    {
     "name": "stdout",
     "output_type": "stream",
     "text": [
      "HSIC: 0.00096\n",
      "CKA: 0.13180\n",
      "KA: 0.10091\n"
     ]
    }
   ],
   "source": [
    "# hsic value and kernel alignment score\n",
    "scorers = ['hsic', 'ka', 'cka']\n",
    "hsic_vals = [get_hsic(X, Y, iscorer, sigma_X, sigma_Y) for iscorer in scorers]\n",
    "\n",
    "print(f\"HSIC: {hsic_vals[0]:.5f}\")\n",
    "print(f\"CKA: {hsic_vals[1]:.5f}\")\n",
    "print(f\"KA: {hsic_vals[2]:.5f}\")"
   ]
  },
  {
   "cell_type": "markdown",
   "metadata": {},
   "source": [
    "#### Case III - Different Length Scale Per Dimension"
   ]
  },
  {
   "cell_type": "code",
   "execution_count": 79,
   "metadata": {},
   "outputs": [
    {
     "name": "stdout",
     "output_type": "stream",
     "text": [
      "Estimated Sigma X: [0.26356727 0.26356727]\n",
      "Estimated Sigma Y: [0.26544708 0.26544708]\n"
     ]
    }
   ],
   "source": [
    "# sigma parameters\n",
    "per_dimension = True\n",
    "method = 'scott'\n",
    "sigma_X, sigma_Y = get_sigma(inputs.X, inputs.Y, method, per_dimension)\n",
    "\n",
    "print(f\"Estimated Sigma X: {sigma_X}\")\n",
    "print(f\"Estimated Sigma Y: {sigma_Y}\")"
   ]
  },
  {
   "cell_type": "code",
   "execution_count": 80,
   "metadata": {},
   "outputs": [
    {
     "name": "stdout",
     "output_type": "stream",
     "text": [
      "HSIC: 0.00094\n",
      "CKA: 0.11962\n",
      "KA: 0.06002\n"
     ]
    }
   ],
   "source": [
    "# hsic value and kernel alignment score\n",
    "scorers = ['hsic', 'ka', 'cka']\n",
    "hsic_vals = [get_hsic(X, Y, iscorer, sigma_X, sigma_Y) for iscorer in scorers]\n",
    "\n",
    "print(f\"HSIC: {hsic_vals[0]:.5f}\")\n",
    "print(f\"CKA: {hsic_vals[1]:.5f}\")\n",
    "print(f\"KA: {hsic_vals[2]:.5f}\")"
   ]
  },
  {
   "cell_type": "markdown",
   "metadata": {},
   "source": [
    "## Standardize or Not Standardize the Data"
   ]
  },
  {
   "cell_type": "code",
   "execution_count": null,
   "metadata": {},
   "outputs": [],
   "source": []
  }
 ],
 "metadata": {
  "kernelspec": {
   "display_name": "Python [conda env:.conda-hsic_align]",
   "language": "python",
   "name": "conda-env-.conda-hsic_align-py"
  },
  "language_info": {
   "codemirror_mode": {
    "name": "ipython",
    "version": 3
   },
   "file_extension": ".py",
   "mimetype": "text/x-python",
   "name": "python",
   "nbconvert_exporter": "python",
   "pygments_lexer": "ipython3",
   "version": "3.8.2"
  }
 },
 "nbformat": 4,
 "nbformat_minor": 4
}
