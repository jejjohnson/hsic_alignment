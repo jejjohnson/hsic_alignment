{
 "cells": [
  {
   "cell_type": "markdown",
   "metadata": {},
   "source": [
    "# HSIC and Tangent Kernel Alignment"
   ]
  },
  {
   "cell_type": "code",
   "execution_count": 1,
   "metadata": {},
   "outputs": [],
   "source": [
    "import sys, os\n",
    "import warnings\n",
    "import tqdm\n",
    "import random\n",
    "import pandas as pd\n",
    "\n",
    "import matplotlib\n",
    "import matplotlib.pyplot as plt\n",
    "\n",
    "# Insert path to model directory,.\n",
    "path = f\"{os.getcwd()}/../../src\"\n",
    "sys.path.insert(0, path)\n",
    "\n",
    "# toy datasets\n",
    "from data.toy import generate_dependence_data\n",
    "\n",
    "# Kernel Dependency measure\n",
    "from models.dependence import HSIC, train_rbf_hsic\n",
    "\n",
    "# RBIG IT measures\n",
    "from models.ite_algorithms import run_rbig_models\n",
    "\n",
    "import matplotlib.pyplot as plt\n",
    "import seaborn as sns\n",
    "%matplotlib inline\n",
    "\n",
    "warnings.filterwarnings('ignore') # get rid of annoying warnings\n",
    "\n",
    "%load_ext autoreload\n",
    "%autoreload 2"
   ]
  },
  {
   "cell_type": "markdown",
   "metadata": {},
   "source": [
    "## Data\n"
   ]
  },
  {
   "cell_type": "code",
   "execution_count": 2,
   "metadata": {},
   "outputs": [
    {
     "data": {
      "image/png": "[encoded data removed]",
      "text/plain": [
       "<Figure size 432x288 with 1 Axes>"
      ]
     },
     "metadata": {
      "needs_background": "light"
     },
     "output_type": "display_data"
    }
   ],
   "source": [
    "# data params\n",
    "dataset = 'line'\n",
    "num_points = 1000\n",
    "seed = 123\n",
    "noise = 0.1\n",
    "\n",
    "# get dataset\n",
    "X, Y = generate_dependence_data(\n",
    "    dataset=dataset,\n",
    "    num_points=num_points,\n",
    "    seed=seed,\n",
    "    noise_x=noise,\n",
    "    noise_y=noise\n",
    ")\n",
    "\n",
    "# plot\n",
    "fig, ax = plt.subplots()\n",
    "\n",
    "ax.scatter(X, Y)\n",
    "plt.show()"
   ]
  },
  {
   "cell_type": "markdown",
   "metadata": {},
   "source": [
    "## HSIC"
   ]
  },
  {
   "cell_type": "markdown",
   "metadata": {},
   "source": [
    "### Original HSIC "
   ]
  },
  {
   "cell_type": "code",
   "execution_count": 3,
   "metadata": {},
   "outputs": [
    {
     "name": "stdout",
     "output_type": "stream",
     "text": [
      "HSIC: 0.01415\n"
     ]
    }
   ],
   "source": [
    "# hsic params\n",
    "kernel = 'rbf'\n",
    "scorer = 'hsic'\n",
    "subsample = None\n",
    "bias = True\n",
    "\n",
    "# initialize HSIC calculator\n",
    "clf_hsic = HSIC(\n",
    "    kernel=kernel, \n",
    "    scorer=scorer, \n",
    "    subsample=subsample,\n",
    "    bias=bias\n",
    ")\n",
    "\n",
    "# calculate HSIC return scorer\n",
    "clf_hsic.fit(X, Y);\n",
    "\n",
    "# hsic value and kernel alignment score\n",
    "hsic_val = clf_hsic.hsic_value\n",
    "\n",
    "print(f\"HSIC: {hsic_val:.5f}\")"
   ]
  },
  {
   "cell_type": "markdown",
   "metadata": {},
   "source": [
    "### Kernel Tangent Alignment"
   ]
  },
  {
   "cell_type": "code",
   "execution_count": 4,
   "metadata": {},
   "outputs": [
    {
     "name": "stdout",
     "output_type": "stream",
     "text": [
      "TKA: 0.99573\n"
     ]
    }
   ],
   "source": [
    "# hsic params\n",
    "kernel = 'rbf'\n",
    "scorer = 'tka'\n",
    "subsample = None\n",
    "bias = True\n",
    "\n",
    "# initialize HSIC calculator\n",
    "clf_hsic = HSIC(\n",
    "    kernel=kernel, \n",
    "    scorer=scorer, \n",
    "    subsample=subsample,\n",
    "    bias=bias\n",
    ")\n",
    "\n",
    "\n",
    "# calculate HSIC return scorer\n",
    "clf_hsic.fit(X, Y);\n",
    "\n",
    "# hsic value and kernel alignment score\n",
    "tka_val = clf_hsic.hsic_value\n",
    "\n",
    "print(f\"TKA: {tka_val:.5f}\")"
   ]
  },
  {
   "cell_type": "markdown",
   "metadata": {},
   "source": [
    "#### Centered Kernel Tangent Alignment"
   ]
  },
  {
   "cell_type": "code",
   "execution_count": 5,
   "metadata": {},
   "outputs": [
    {
     "name": "stdout",
     "output_type": "stream",
     "text": [
      "TKA: 0.89475\n"
     ]
    }
   ],
   "source": [
    "# hsic params\n",
    "kernel = 'rbf'\n",
    "scorer = 'ctka'\n",
    "subsample = None\n",
    "bias = True\n",
    "\n",
    "# initialize HSIC calculator\n",
    "clf_hsic = HSIC(\n",
    "    kernel=kernel, \n",
    "    scorer=scorer, \n",
    "    subsample=subsample,\n",
    "    bias=bias\n",
    ")\n",
    "\n",
    "\n",
    "# calculate HSIC return scorer\n",
    "clf_hsic.fit(X, Y);\n",
    "\n",
    "# hsic value and kernel alignment score\n",
    "tka_val = clf_hsic.hsic_value\n",
    "\n",
    "print(f\"TKA: {tka_val:.5f}\")"
   ]
  },
  {
   "cell_type": "markdown",
   "metadata": {},
   "source": [
    "## Training: Maximizing HSIC Values"
   ]
  },
  {
   "cell_type": "markdown",
   "metadata": {},
   "source": [
    "The code below showcases an easy way to find the best kernel parameters by maximizing the HSIC value. This can be done with cross validation and the automatic training helper function found below."
   ]
  },
  {
   "cell_type": "markdown",
   "metadata": {},
   "source": [
    "#### HSIC"
   ]
  },
  {
   "cell_type": "code",
   "execution_count": 9,
   "metadata": {},
   "outputs": [
    {
     "name": "stdout",
     "output_type": "stream",
     "text": [
      "Fitting 2 folds for each of 1000 candidates, totalling 2000 fits\n"
     ]
    },
    {
     "name": "stderr",
     "output_type": "stream",
     "text": [
      "[Parallel(n_jobs=-1)]: Using backend LokyBackend with 28 concurrent workers.\n",
      "[Parallel(n_jobs=-1)]: Done 584 tasks      | elapsed:    1.1s\n"
     ]
    },
    {
     "name": "stdout",
     "output_type": "stream",
     "text": [
      "Best HSIC score: 9.315e-02\n",
      "gamma: 12.775\n"
     ]
    },
    {
     "name": "stderr",
     "output_type": "stream",
     "text": [
      "[Parallel(n_jobs=-1)]: Done 2000 out of 2000 | elapsed:    3.0s finished\n"
     ]
    }
   ],
   "source": [
    "# hsic params\n",
    "kernel = 'rbf'\n",
    "scorer = 'hsic'\n",
    "subsample = None\n",
    "bias = True\n",
    "\n",
    "# initialize HSIC calculator\n",
    "clf_hsic = HSIC(\n",
    "    kernel=kernel, \n",
    "    scorer=scorer, \n",
    "    subsample=subsample,\n",
    "    bias=bias\n",
    ")\n",
    "\n",
    "# HSIC train parameters\n",
    "n_gamma = 1000\n",
    "sigma_est = 'mean'\n",
    "factor = 1\n",
    "verbose = 1\n",
    "n_jobs = -1\n",
    "cv = 2\n",
    "\n",
    "# calculate HSIC return scorer\n",
    "clf_hsic = train_rbf_hsic(\n",
    "    X, Y, \n",
    "    clf_hsic, \n",
    "    n_gamma=n_gamma, \n",
    "    factor=factor, \n",
    "    sigma_est=sigma_est, \n",
    "    verbose=verbose, \n",
    "    n_jobs=n_jobs, \n",
    "    cv=cv\n",
    ")\n",
    "\n",
    "# hsic value and kernel alignment score\n",
    "hsic_val = clf_hsic.hsic_value"
   ]
  },
  {
   "cell_type": "code",
   "execution_count": 10,
   "metadata": {},
   "outputs": [
    {
     "data": {
      "text/plain": [
       "12.775485451762533"
      ]
     },
     "execution_count": 10,
     "metadata": {},
     "output_type": "execute_result"
    }
   ],
   "source": [
    "clf_hsic.gamma"
   ]
  },
  {
   "cell_type": "markdown",
   "metadata": {},
   "source": [
    "#### TKA"
   ]
  },
  {
   "cell_type": "code",
   "execution_count": 7,
   "metadata": {},
   "outputs": [
    {
     "name": "stdout",
     "output_type": "stream",
     "text": [
      "Fitting 2 folds for each of 1000 candidates, totalling 2000 fits\n"
     ]
    },
    {
     "name": "stderr",
     "output_type": "stream",
     "text": [
      "[Parallel(n_jobs=-1)]: Using backend LokyBackend with 28 concurrent workers.\n"
     ]
    },
    {
     "name": "stdout",
     "output_type": "stream",
     "text": [
      "Best TKA score: 1.000e+00\n",
      "gamma: 0.005\n"
     ]
    },
    {
     "name": "stderr",
     "output_type": "stream",
     "text": [
      "[Parallel(n_jobs=-1)]: Done 2000 out of 2000 | elapsed:    2.0s finished\n"
     ]
    }
   ],
   "source": [
    "# hsic params\n",
    "kernel = 'rbf'\n",
    "scorer = 'tka'\n",
    "subsample = None\n",
    "bias = True\n",
    "\n",
    "# initialize HSIC calculator\n",
    "clf_hsic = HSIC(\n",
    "    kernel=kernel, \n",
    "    scorer=scorer, \n",
    "    subsample=subsample,\n",
    "    bias=bias\n",
    ")\n",
    "\n",
    "# HSIC train parameters\n",
    "n_gamma = 1000\n",
    "sigma_est = 'mean'\n",
    "factor = 1\n",
    "verbose = 1\n",
    "n_jobs = -1\n",
    "cv = 2\n",
    "\n",
    "# calculate HSIC return scorer\n",
    "clf_hsic = train_rbf_hsic(\n",
    "    X, Y, \n",
    "    clf_hsic, \n",
    "    n_gamma=n_gamma, \n",
    "    factor=factor, \n",
    "    sigma_est=sigma_est, \n",
    "    verbose=verbose, \n",
    "    n_jobs=n_jobs, \n",
    "    cv=cv\n",
    ")\n",
    "# hsic value and kernel alignment score\n",
    "hsic_val = clf_hsic.hsic_value"
   ]
  },
  {
   "cell_type": "markdown",
   "metadata": {},
   "source": [
    "#### cTKA"
   ]
  },
  {
   "cell_type": "code",
   "execution_count": 8,
   "metadata": {},
   "outputs": [
    {
     "name": "stderr",
     "output_type": "stream",
     "text": [
      "[Parallel(n_jobs=-1)]: Using backend LokyBackend with 28 concurrent workers.\n"
     ]
    },
    {
     "name": "stdout",
     "output_type": "stream",
     "text": [
      "Fitting 2 folds for each of 1000 candidates, totalling 2000 fits\n"
     ]
    },
    {
     "name": "stderr",
     "output_type": "stream",
     "text": [
      "[Parallel(n_jobs=-1)]: Done 272 tasks      | elapsed:    0.7s\n"
     ]
    },
    {
     "name": "stdout",
     "output_type": "stream",
     "text": [
      "Best CTKA score: 8.948e-01\n",
      "gamma: 0.906\n"
     ]
    },
    {
     "name": "stderr",
     "output_type": "stream",
     "text": [
      "[Parallel(n_jobs=-1)]: Done 2000 out of 2000 | elapsed:    2.7s finished\n"
     ]
    }
   ],
   "source": [
    "# hsic params\n",
    "kernel = 'rbf'\n",
    "scorer = 'ctka'\n",
    "subsample = None\n",
    "bias = True\n",
    "\n",
    "# initialize HSIC calculator\n",
    "clf_hsic = HSIC(\n",
    "    kernel=kernel, \n",
    "    scorer=scorer, \n",
    "    subsample=subsample,\n",
    "    bias=bias\n",
    ")\n",
    "\n",
    "# HSIC train parameters\n",
    "n_gamma = 1000\n",
    "sigma_est = 'mean'\n",
    "factor = 1\n",
    "verbose = 1\n",
    "n_jobs = -1\n",
    "cv = 2\n",
    "\n",
    "# calculate HSIC return scorer\n",
    "clf_hsic = train_rbf_hsic(\n",
    "    X, Y, \n",
    "    clf_hsic, \n",
    "    n_gamma=n_gamma, \n",
    "    factor=factor, \n",
    "    sigma_est=sigma_est, \n",
    "    verbose=verbose, \n",
    "    n_jobs=n_jobs, \n",
    "    cv=cv\n",
    ")\n",
    "\n",
    "# hsic value and kernel alignment score\n",
    "hsic_val = clf_hsic.hsic_value"
   ]
  },
  {
   "cell_type": "code",
   "execution_count": null,
   "metadata": {},
   "outputs": [],
   "source": []
  }
 ],
 "metadata": {
  "kernelspec": {
   "display_name": "Python [conda env:.conda-it4dnn]",
   "language": "python",
   "name": "conda-env-.conda-it4dnn-py"
  },
  "language_info": {
   "codemirror_mode": {
    "name": "ipython",
    "version": 3
   },
   "file_extension": ".py",
   "mimetype": "text/x-python",
   "name": "python",
   "nbconvert_exporter": "python",
   "pygments_lexer": "ipython3",
   "version": "3.6.9"
  }
 },
 "nbformat": 4,
 "nbformat_minor": 2
}
