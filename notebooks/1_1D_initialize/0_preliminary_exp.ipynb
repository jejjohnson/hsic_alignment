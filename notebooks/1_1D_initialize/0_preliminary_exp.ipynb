{
 "cells": [
  {
   "cell_type": "markdown",
   "metadata": {},
   "source": [
    "# Comparing HSIC versus Mutual Information measures"
   ]
  },
  {
   "cell_type": "markdown",
   "metadata": {},
   "source": [
    "In this notebook, we will be exploring how we can estimate the HSIC parmaeter for different distributions and look at how it compares to MI measures. Normally the procedure for calculating HSIC is as follows:\n",
    "\n",
    "1. Calculate kernel matrices for X and Y\n",
    "2. Center both kernel matrices\n",
    "3. Find the Frobenius norm between the kernel matrices\n",
    "\n",
    "This works well but there is no certain way to estimate the parameter for each of the kernel matrices. There is another paper that is called the Kernel Tangent Alignment (KTA). This method is different as it is calculated like so:\n",
    "\n",
    "1. Calculate the kernel matrices for X and Y\n",
    "2. Find the Frobenius norm between the kernel matrices\n",
    "3. Normalize the value by the Frobenius norm of X and Y individually\n",
    "\n",
    "This works in a similar way to the HSIC method. The difference is that you do the normalization procedure. The final algorithm is the Centered Kernel Tangent Alignment (cKTA) method which is a combination of the previous two methods. The algorithm is as follows:\n",
    "\n",
    "1. Calculate the kernel matrices for X and Y\n",
    "2. Center both kernel matrices\n",
    "3. Find the Frobenius norm between the kernel matrices\n",
    "4. Normalize the value by the Frobenius norm of X and Y individually \n",
    "\n",
    "As you can see, it would appear that this method is the most complete in the sense that it incorporates all steps to ensure that our data is sufficiently scaled to a way that is directly comparable. This notebook will attempt to see which of these methods provides a good estimate for a sigma value for the kernel matrices and how do their output values compare to mutual information measures."
   ]
  },
  {
   "cell_type": "markdown",
   "metadata": {},
   "source": [
    "## Code"
   ]
  },
  {
   "cell_type": "code",
   "execution_count": 1,
   "metadata": {},
   "outputs": [],
   "source": [
    "import sys, os\n",
    "import warnings\n",
    "import tqdm\n",
    "import random\n",
    "import pandas as pd\n",
    "import numpy as np\n",
    "\n",
    "import matplotlib\n",
    "import matplotlib.pyplot as plt\n",
    "\n",
    "# Insert path to model directory,.\n",
    "cwd = os.getcwd()\n",
    "path = f\"{cwd}/../../src\"\n",
    "sys.path.insert(0, path)\n",
    "\n",
    "# toy datasets\n",
    "from data.toy import generate_dependence_data\n",
    "\n",
    "# Kernel Dependency measure\n",
    "from models.dependence import HSIC, train_hsic\n",
    "from models.kernel import estimate_sigma, sigma_to_gamma, gamma_to_sigma, get_param_grid\n",
    "\n",
    "import matplotlib.pyplot as plt\n",
    "import seaborn as sns\n",
    "plt.style.use('ggplot')\n",
    "%matplotlib inline\n",
    "\n",
    "warnings.filterwarnings('ignore') # get rid of annoying warnings\n",
    "\n",
    "%load_ext autoreload\n",
    "%autoreload 2"
   ]
  },
  {
   "cell_type": "markdown",
   "metadata": {},
   "source": [
    "## Example"
   ]
  },
  {
   "cell_type": "markdown",
   "metadata": {},
   "source": [
    "### Data"
   ]
  },
  {
   "cell_type": "code",
   "execution_count": 11,
   "metadata": {},
   "outputs": [
    {
     "name": "stderr",
     "output_type": "stream",
     "text": [
      "No handles with labels found to put in legend.\n"
     ]
    },
    {
     "data": {
      "image/png": "[encoded data removed]",
      "text/plain": [
       "<Figure size 504x216 with 1 Axes>"
      ]
     },
     "metadata": {
      "needs_background": "light"
     },
     "output_type": "display_data"
    }
   ],
   "source": [
    "# data params\n",
    "dataset = 'sine'\n",
    "num_points = 1000\n",
    "seed = 123\n",
    "noise_x = 0.1\n",
    "noise_y = 0.1\n",
    "\n",
    "# get dataset\n",
    "X, Y = generate_dependence_data(\n",
    "    dataset=dataset,\n",
    "    num_points=num_points,\n",
    "    seed=seed,\n",
    "    noise_x=noise_x,\n",
    "    noise_y=noise_y\n",
    ")\n",
    "\n",
    "X_scale, Y_scale = X * 1, Y * 1\n",
    "# plot\n",
    "\n",
    "fig, ax = plt.subplots(nrows=1, figsize=(7, 3))\n",
    "\n",
    "ax.scatter(X, Y)\n",
    "ax.get_xaxis().set_visible(False)\n",
    "ax.get_yaxis().set_visible(False)\n",
    "# ax.set_aspect('equal', 'box')\n",
    "plt.legend(fontsize=20)\n",
    "plt.xticks(fontsize=20)\n",
    "plt.yticks(fontsize=20)\n",
    "plt.tight_layout()\n",
    "plt.show()\n",
    "\n",
    "save_path = f'{cwd}/../../results/figures/datasets/'\n",
    "fig.savefig(f\"{save_path}demo_{dataset}.png\")"
   ]
  },
  {
   "cell_type": "markdown",
   "metadata": {},
   "source": [
    "### HSIC Value"
   ]
  },
  {
   "cell_type": "markdown",
   "metadata": {},
   "source": [
    "#### Original HSIC Value"
   ]
  },
  {
   "cell_type": "code",
   "execution_count": 12,
   "metadata": {},
   "outputs": [
    {
     "name": "stdout",
     "output_type": "stream",
     "text": [
      "HSIC: 0.02719\n"
     ]
    }
   ],
   "source": [
    "# hsic params\n",
    "kernel = 'rbf'\n",
    "scorer = 'hsic'\n",
    "subsample = None\n",
    "bias = True\n",
    "\n",
    "# initialize HSIC calculator\n",
    "clf_hsic = HSIC(\n",
    "    kernel=kernel, \n",
    "    scorer=scorer, \n",
    "    subsample=subsample,\n",
    "    bias=bias\n",
    ")\n",
    "\n",
    "# calculate HSIC return scorer\n",
    "clf_hsic.fit(X_scale, Y_scale);\n",
    "\n",
    "# hsic value and kernel alignment score\n",
    "hsic_val = clf_hsic.hsic_value\n",
    "\n",
    "print(f\"HSIC: {hsic_val:.5f}\")"
   ]
  },
  {
   "cell_type": "markdown",
   "metadata": {},
   "source": [
    "#### Kernel Tangent Alignment"
   ]
  },
  {
   "cell_type": "code",
   "execution_count": 13,
   "metadata": {},
   "outputs": [
    {
     "name": "stdout",
     "output_type": "stream",
     "text": [
      "TKA: 0.87495\n"
     ]
    }
   ],
   "source": [
    "# hsic params\n",
    "kernel = 'rbf'\n",
    "scorer = 'tka'\n",
    "subsample = None\n",
    "bias = True\n",
    "\n",
    "# initialize HSIC calculator\n",
    "clf_hsic = HSIC(\n",
    "    kernel=kernel, \n",
    "    scorer=scorer, \n",
    "    subsample=subsample,\n",
    "    bias=bias\n",
    ")\n",
    "\n",
    "\n",
    "# calculate HSIC return scorer\n",
    "clf_hsic.fit(X, Y);\n",
    "\n",
    "# hsic value and kernel alignment score\n",
    "tka_val = clf_hsic.hsic_value\n",
    "\n",
    "print(f\"TKA: {tka_val:.5f}\")"
   ]
  },
  {
   "cell_type": "markdown",
   "metadata": {},
   "source": [
    "#### Centered Kernel Tangent Alignment"
   ]
  },
  {
   "cell_type": "code",
   "execution_count": 14,
   "metadata": {},
   "outputs": [
    {
     "name": "stdout",
     "output_type": "stream",
     "text": [
      "TKA: 0.65111\n"
     ]
    }
   ],
   "source": [
    "# hsic params\n",
    "kernel = 'rbf'\n",
    "scorer = 'ctka'\n",
    "subsample = None\n",
    "bias = True\n",
    "\n",
    "# initialize HSIC calculator\n",
    "clf_hsic = HSIC(\n",
    "    kernel=kernel, \n",
    "    scorer=scorer, \n",
    "    subsample=subsample,\n",
    "    bias=bias\n",
    ")\n",
    "\n",
    "\n",
    "# calculate HSIC return scorer\n",
    "clf_hsic.fit(X, Y);\n",
    "\n",
    "# hsic value and kernel alignment score\n",
    "tka_val = clf_hsic.hsic_value\n",
    "\n",
    "print(f\"TKA: {tka_val:.5f}\")"
   ]
  },
  {
   "cell_type": "markdown",
   "metadata": {},
   "source": [
    "### Problem Example\n",
    "\n",
    "So here I will demonstrate one of the problems with trying to use HSIC without proper consideration of the parameters. I will vary the gamme value from 0.001 to 1000 and we'll see that the values for HSIC and cKTA will change depending upon the parameters."
   ]
  },
  {
   "cell_type": "code",
   "execution_count": 7,
   "metadata": {},
   "outputs": [],
   "source": [
    "from typing import Optional\n",
    "\n",
    "FIG_PATH = f'{cwd}/../../results/figures/init_gamma/'\n",
    "def plot_max_hsic(results_list, scorer='hsic', function='line', sigma_est='mean', save=True, plot_legend=True):\n",
    "    \n",
    "    save_path = f'{cwd}/../../results/figures/init_gamma/'\n",
    "    \n",
    "    fig, ax = plt.subplots(nrows=1, figsize=(7, 5))\n",
    "    \n",
    "    # MAX HSIC Values\n",
    "    max_idx = np.argmax(scorers[scorer])\n",
    "    hsic_max = scorers[scorer][max_idx]\n",
    "    gamma_max = gammas[max_idx]\n",
    "    print(f'Max {scorer.upper()}: {hsic_max:.4f}')\n",
    "    print(f'Max Gamma ({scorer.upper()}): {gamma_max:.4f}\\n')\n",
    "\n",
    "    # init HSIC Values\n",
    "    init_median, _ = get_init(method='median', factor=1)\n",
    "    median_hsic = HSIC(gamma_X=init_median, scorer=scorer).fit(X, Y).score(X)\n",
    "#     print(init_median, median_hsic)\n",
    "    \n",
    "    init_mean, _ = get_init(method='mean', factor=1)\n",
    "    mean_hsic = HSIC(gamma_X=init_mean, scorer=scorer).fit(X, Y).score(X)\n",
    "#     print(init_mean, mean_hsic)\n",
    "    \n",
    "    init_silv, _ = get_init(method='silverman', factor=1)\n",
    "    silv_hsic = HSIC(gamma_X=init_silv, scorer=scorer).fit(X, Y).score(X)\n",
    "#     print(init_silv, silv_hsic)\n",
    "\n",
    "    ax.set_xscale('log')\n",
    "    ax.plot(gammas, scorers[scorer], color='red', linewidth=10, zorder=0)\n",
    "    ax.scatter(gamma_max, hsic_max, s=300, c='yellow', label=f'Maximum', zorder=1)\n",
    "    ax.scatter(init_median, median_hsic, s=300, c='black', label='Median', zorder=1)\n",
    "    ax.scatter(init_mean, mean_hsic, s=300, c='green', label='Mean', zorder=1)\n",
    "    ax.scatter(init_silv, silv_hsic, s=300, c='blue', label='Silverman', zorder=1)\n",
    "    ax.set_xlabel('$\\gamma$', fontsize=20)\n",
    "    ax.set_ylabel(f'{scorer.upper()}', fontsize=20)\n",
    "    ax.tick_params(axis='both', which='major', labelsize=10)\n",
    "    \n",
    "    if scorer in ['ctka', 'tka']:\n",
    "        ax.set_ylim([0.0, 1.1])\n",
    "    elif scorer in ['hsic']:\n",
    "        ax.set_ylim([0.0, 0.11])\n",
    "    else:\n",
    "        raise ValueError(f\"Unrecognized scorer: {scorer}\")\n",
    "    if not plot_legend: \n",
    "        plt.legend(fontsize=20)\n",
    "    plt.xticks(fontsize=20)\n",
    "    \n",
    "    plt.yticks(fontsize=20)\n",
    "    plt.tight_layout()\n",
    "    plt.show()\n",
    "    \n",
    "#     if save:\n",
    "    save_name = f\"demo_{function}_{sigma_est}_{scorer}\"\n",
    "    fig.savefig(save_path + save_name + \".png\")\n",
    "\n",
    "    # plot legend\n",
    "    # colors = [c for c in handles.]\n",
    "    handles, labels = ax.get_legend_handles_labels()\n",
    "    if plot_legend:\n",
    "        plot_legend_alone(handles, labels, save_name)\n",
    "\n",
    "\n",
    "def plot_legend_alone(handles, labels, save_name: Optional[str] = None):\n",
    "    fig_legend = plt.figure(constrained_layout=True)\n",
    "    ax = fig_legend.add_subplot(111)\n",
    "    fig_legend.legend(\n",
    "        handles, labels, loc=\"upper center\", frameon=False, ncol=len(labels)\n",
    "    )\n",
    "    # ax.axis(\"off\")\n",
    "    ax.xaxis.set_visible(False)\n",
    "    ax.yaxis.set_visible(False)\n",
    "    fig_legend.canvas.draw()\n",
    "    plt.tight_layout()\n",
    "    # bbox_inches = \"tight\"\n",
    "    # plt.tight_layout()\n",
    "\n",
    "    if save_name is not None:\n",
    "        fig_legend.savefig(FIG_PATH + save_name + \"_legend.png\", bbox_inches=\"tight\")\n",
    "    fig_legend.show()"
   ]
  },
  {
   "cell_type": "code",
   "execution_count": null,
   "metadata": {},
   "outputs": [],
   "source": []
  },
  {
   "cell_type": "code",
   "execution_count": 8,
   "metadata": {},
   "outputs": [],
   "source": [
    "def get_init(method='median', factor=1, percent=None, scale=1.0, n_gammas=100):\n",
    "    \n",
    "    # estimate sigma params\n",
    "    factor = 1\n",
    "    n_gammas = 100\n",
    "\n",
    "    # Estimate Sigma\n",
    "    sigma_x = estimate_sigma(X, method=method, percent=percent, scale=scale)\n",
    "    sigma_y = estimate_sigma(Y, method=method, percent=percent, scale=scale)\n",
    "\n",
    "    # init overall sigma is mean between two\n",
    "    init_sigma = np.mean([sigma_x, sigma_y])\n",
    "\n",
    "    # get sigma parameter grid\n",
    "    sigmas = get_param_grid(init_sigma, factor, n_gammas)\n",
    "\n",
    "\n",
    "    gammas = sigma_to_gamma(sigmas)\n",
    "    init_gamma = sigma_to_gamma(init_sigma)\n",
    "    return init_gamma, gammas"
   ]
  },
  {
   "cell_type": "code",
   "execution_count": 68,
   "metadata": {},
   "outputs": [],
   "source": [
    "init_gamma, gammas = get_init(sigma_est, factor=factor, percent=0.5, n_gammas=n_gammas)"
   ]
  },
  {
   "cell_type": "code",
   "execution_count": 69,
   "metadata": {},
   "outputs": [
    {
     "data": {
      "text/plain": [
       "7.451958123570317"
      ]
     },
     "execution_count": 69,
     "metadata": {},
     "output_type": "execute_result"
    }
   ],
   "source": [
    "init_gamma"
   ]
  },
  {
   "cell_type": "code",
   "execution_count": 82,
   "metadata": {},
   "outputs": [
    {
     "data": {
      "text/plain": [
       "<matplotlib.collections.PathCollection at 0x7fb2f89632b0>"
      ]
     },
     "execution_count": 82,
     "metadata": {},
     "output_type": "execute_result"
    },
    {
     "data": {
      "image/png": "[encoded data removed]",
      "text/plain": [
       "<Figure size 432x288 with 1 Axes>"
      ]
     },
     "metadata": {
      "needs_background": "light"
     },
     "output_type": "display_data"
    }
   ],
   "source": [
    "# Generate data\n",
    "dataset = 'circle'\n",
    "num_points = 1_000\n",
    "noise_x = 0.05\n",
    "noise_y = 0.05\n",
    "seed = 1\n",
    "\n",
    "\n",
    "X, Y = generate_dependence_data(\n",
    "    dataset=dataset, \n",
    "    num_points=num_points,\n",
    "    noise_x=noise_x,\n",
    "    noise_y=noise_y,\n",
    "    seed=seed\n",
    ")\n",
    "\n",
    "plt.scatter(X,Y)"
   ]
  },
  {
   "cell_type": "code",
   "execution_count": 84,
   "metadata": {},
   "outputs": [
    {
     "ename": "ValueError",
     "evalue": "Unrecognized mode \"max\".",
     "output_type": "error",
     "traceback": [
      "\u001b[0;31m---------------------------------------------------------------------------\u001b[0m",
      "\u001b[0;31mValueError\u001b[0m                                Traceback (most recent call last)",
      "\u001b[0;32m<ipython-input-84-806a668f1c9f>\u001b[0m in \u001b[0;36m<module>\u001b[0;34m\u001b[0m\n\u001b[1;32m      6\u001b[0m \u001b[0msigma_est\u001b[0m \u001b[0;34m=\u001b[0m \u001b[0;34m'max'\u001b[0m\u001b[0;34m\u001b[0m\u001b[0;34m\u001b[0m\u001b[0m\n\u001b[1;32m      7\u001b[0m \u001b[0;34m\u001b[0m\u001b[0m\n\u001b[0;32m----> 8\u001b[0;31m \u001b[0minit_gamma\u001b[0m\u001b[0;34m,\u001b[0m \u001b[0mgammas\u001b[0m \u001b[0;34m=\u001b[0m \u001b[0mget_init\u001b[0m\u001b[0;34m(\u001b[0m\u001b[0msigma_est\u001b[0m\u001b[0;34m,\u001b[0m \u001b[0mfactor\u001b[0m\u001b[0;34m=\u001b[0m\u001b[0mfactor\u001b[0m\u001b[0;34m,\u001b[0m \u001b[0mpercent\u001b[0m\u001b[0;34m=\u001b[0m\u001b[0;32mNone\u001b[0m\u001b[0;34m,\u001b[0m \u001b[0mn_gammas\u001b[0m\u001b[0;34m=\u001b[0m\u001b[0mn_gammas\u001b[0m\u001b[0;34m)\u001b[0m\u001b[0;34m\u001b[0m\u001b[0;34m\u001b[0m\u001b[0m\n\u001b[0m\u001b[1;32m      9\u001b[0m \u001b[0mprint\u001b[0m\u001b[0;34m(\u001b[0m\u001b[0minit_gamma\u001b[0m\u001b[0;34m)\u001b[0m\u001b[0;34m\u001b[0m\u001b[0;34m\u001b[0m\u001b[0m\n\u001b[1;32m     10\u001b[0m \u001b[0;34m\u001b[0m\u001b[0m\n",
      "\u001b[0;32m<ipython-input-29-73dc0e693e95>\u001b[0m in \u001b[0;36mget_init\u001b[0;34m(method, factor, percent, scale, n_gammas)\u001b[0m\n\u001b[1;32m      6\u001b[0m \u001b[0;34m\u001b[0m\u001b[0m\n\u001b[1;32m      7\u001b[0m     \u001b[0;31m# Estimate Sigma\u001b[0m\u001b[0;34m\u001b[0m\u001b[0;34m\u001b[0m\u001b[0;34m\u001b[0m\u001b[0m\n\u001b[0;32m----> 8\u001b[0;31m     \u001b[0msigma_x\u001b[0m \u001b[0;34m=\u001b[0m \u001b[0mestimate_sigma\u001b[0m\u001b[0;34m(\u001b[0m\u001b[0mX\u001b[0m\u001b[0;34m,\u001b[0m \u001b[0mmethod\u001b[0m\u001b[0;34m=\u001b[0m\u001b[0mmethod\u001b[0m\u001b[0;34m,\u001b[0m \u001b[0mpercent\u001b[0m\u001b[0;34m=\u001b[0m\u001b[0mpercent\u001b[0m\u001b[0;34m,\u001b[0m \u001b[0mscale\u001b[0m\u001b[0;34m=\u001b[0m\u001b[0mscale\u001b[0m\u001b[0;34m)\u001b[0m\u001b[0;34m\u001b[0m\u001b[0;34m\u001b[0m\u001b[0m\n\u001b[0m\u001b[1;32m      9\u001b[0m     \u001b[0msigma_y\u001b[0m \u001b[0;34m=\u001b[0m \u001b[0mestimate_sigma\u001b[0m\u001b[0;34m(\u001b[0m\u001b[0mY\u001b[0m\u001b[0;34m,\u001b[0m \u001b[0mmethod\u001b[0m\u001b[0;34m=\u001b[0m\u001b[0mmethod\u001b[0m\u001b[0;34m,\u001b[0m \u001b[0mpercent\u001b[0m\u001b[0;34m=\u001b[0m\u001b[0mpercent\u001b[0m\u001b[0;34m,\u001b[0m \u001b[0mscale\u001b[0m\u001b[0;34m=\u001b[0m\u001b[0mscale\u001b[0m\u001b[0;34m)\u001b[0m\u001b[0;34m\u001b[0m\u001b[0;34m\u001b[0m\u001b[0m\n\u001b[1;32m     10\u001b[0m \u001b[0;34m\u001b[0m\u001b[0m\n",
      "\u001b[0;32m~/projects/2019_hsic_align/notebooks/1_1D_initialize/../../src/models/kernel.py\u001b[0m in \u001b[0;36mestimate_sigma\u001b[0;34m(X, subsample, method, percent, scale, random_state)\u001b[0m\n\u001b[1;32m    175\u001b[0m \u001b[0;34m\u001b[0m\u001b[0m\n\u001b[1;32m    176\u001b[0m     \u001b[0;32melse\u001b[0m\u001b[0;34m:\u001b[0m\u001b[0;34m\u001b[0m\u001b[0;34m\u001b[0m\u001b[0m\n\u001b[0;32m--> 177\u001b[0;31m         \u001b[0;32mraise\u001b[0m \u001b[0mValueError\u001b[0m\u001b[0;34m(\u001b[0m\u001b[0;34m'Unrecognized mode \"{}\".'\u001b[0m\u001b[0;34m.\u001b[0m\u001b[0mformat\u001b[0m\u001b[0;34m(\u001b[0m\u001b[0mmethod\u001b[0m\u001b[0;34m)\u001b[0m\u001b[0;34m)\u001b[0m\u001b[0;34m\u001b[0m\u001b[0;34m\u001b[0m\u001b[0m\n\u001b[0m\u001b[1;32m    178\u001b[0m \u001b[0;34m\u001b[0m\u001b[0m\n\u001b[1;32m    179\u001b[0m     \u001b[0;31m# scale the sigma by a factor\u001b[0m\u001b[0;34m\u001b[0m\u001b[0;34m\u001b[0m\u001b[0;34m\u001b[0m\u001b[0m\n",
      "\u001b[0;31mValueError\u001b[0m: Unrecognized mode \"max\"."
     ]
    }
   ],
   "source": [
    "# hsic model params\n",
    "kernel = 'rbf'\n",
    "subsample = None\n",
    "bias = True\n",
    "scorer = 'hsic'\n",
    "sigma_est = 'max'\n",
    "\n",
    "init_gamma, gammas = get_init(sigma_est, factor=factor, percent=None, n_gammas=n_gammas)\n",
    "print(init_gamma)\n",
    "\n",
    "clf_hsic = HSIC(\n",
    "    kernel=kernel, \n",
    "    scorer=scorer,\n",
    "    gamma_X=igamma,\n",
    "    subsample=subsample,\n",
    "    bias=bias\n",
    ")\n",
    "\n",
    "# calculate HSIC return scorer\n",
    "clf_hsic.fit(X, Y);\n",
    "print(clf_hsic.score(X))"
   ]
  },
  {
   "cell_type": "code",
   "execution_count": 55,
   "metadata": {},
   "outputs": [],
   "source": [
    "class DataParams:\n",
    "    datasets = ['sine', 'line', 'circle', 'random']\n",
    "    num_points = 1_000\n",
    "    noise_x = 0.1\n",
    "    noise_y = 0.1\n",
    "    \n",
    "    \n",
    "class ExperimentParams:\n",
    "    seeds = [1] # np.linspace(1,10,10,dtype=int)\n",
    "    sigma_est = 'mean'\n",
    "    factor = 1\n",
    "    n_gammas = 100\n",
    "    percent = 0.5\n",
    "    # hsic model params\n",
    "    kernel = 'rbf'\n",
    "    subsample = None\n",
    "    bias = True\n",
    "    scorers = ['hsic', 'tka', 'ctka']\n",
    "    \n",
    "    \n",
    "def experiment_step(dataset, scorer, gamma, seed, exp_params):\n",
    "    # Get HSIC Score\n",
    "    clf_hsic = HSIC(\n",
    "        kernel=exp_params.kernel, \n",
    "        scorer=scorer,\n",
    "        gamma_X=gamma,\n",
    "        gamma_Y=gamma,\n",
    "        subsample=exp_params.subsample,\n",
    "        bias=exp_params.bias\n",
    "    )\n",
    "\n",
    "    # calculate HSIC return scorer\n",
    "    clf_hsic.fit(X, Y);\n",
    "\n",
    "    # hsic value and kernel alignment score\n",
    "    hsic_score = clf_hsic.score(X)\n",
    "\n",
    "    results_df = pd.DataFrame({\n",
    "        'dataset': dataset,\n",
    "        'scorer': scorer,\n",
    "        'gamma': gamma,\n",
    "        'hsic_score': hsic_score,\n",
    "        'trial': seed\n",
    "    }, index=[0])\n",
    "    return results_df"
   ]
  },
  {
   "cell_type": "code",
   "execution_count": 58,
   "metadata": {},
   "outputs": [],
   "source": [
    "def run_experiment(data_params, exp_params):\n",
    "    \n",
    "\n",
    "    \n",
    "    results_df = pd.DataFrame()\n",
    "    \n",
    "    # Experimental Loop\n",
    "    for idata in data_params.datasets:\n",
    "        print(f\"Dataset: {idata}\")\n",
    "        for iseed in exp_params.seeds:\n",
    "            # Extract Data\n",
    "            X, Y = generate_dependence_data(\n",
    "                dataset=idata, \n",
    "                num_points=data_params.num_points,\n",
    "                noise_x=data_params.noise_x,\n",
    "                noise_y=noise_y,\n",
    "                seed=iseed\n",
    "            )\n",
    "\n",
    "            # estimate sigma params\n",
    "            init_gamma, gammas = get_init(\n",
    "                exp_params.sigma_est, \n",
    "                factor=exp_params.factor, \n",
    "                percent=exp_params.percent, \n",
    "                n_gammas=exp_params.n_gammas\n",
    "            )\n",
    "\n",
    "            for iscorer in exp_params.scorers:\n",
    "                for igamma in gammas:\n",
    "                    ires = experiment_step(idata, iscorer, igamma, iseed, exp_params)\n",
    "                    results_df = results_df.append(ires, ignore_index=True)\n",
    "    \n",
    "    return results_df\n"
   ]
  },
  {
   "cell_type": "code",
   "execution_count": 60,
   "metadata": {},
   "outputs": [
    {
     "data": {
      "text/html": [
       "<div>\n",
       "<style scoped>\n",
       "    .dataframe tbody tr th:only-of-type {\n",
       "        vertical-align: middle;\n",
       "    }\n",
       "\n",
       "    .dataframe tbody tr th {\n",
       "        vertical-align: top;\n",
       "    }\n",
       "\n",
       "    .dataframe thead th {\n",
       "        text-align: right;\n",
       "    }\n",
       "</style>\n",
       "<table border=\"1\" class=\"dataframe\">\n",
       "  <thead>\n",
       "    <tr style=\"text-align: right;\">\n",
       "      <th></th>\n",
       "      <th>dataset</th>\n",
       "      <th>scorer</th>\n",
       "      <th>gamma</th>\n",
       "      <th>hsic_score</th>\n",
       "      <th>trial</th>\n",
       "    </tr>\n",
       "  </thead>\n",
       "  <tbody>\n",
       "    <tr>\n",
       "      <th>0</th>\n",
       "      <td>line</td>\n",
       "      <td>hsic</td>\n",
       "      <td>0.1</td>\n",
       "      <td>0.000812</td>\n",
       "      <td>1</td>\n",
       "    </tr>\n",
       "  </tbody>\n",
       "</table>\n",
       "</div>"
      ],
      "text/plain": [
       "  dataset scorer  gamma  hsic_score  trial\n",
       "0    line   hsic    0.1    0.000812      1"
      ]
     },
     "execution_count": 60,
     "metadata": {},
     "output_type": "execute_result"
    }
   ],
   "source": [
    "results_df = experiment_step('line', 'hsic', 0.1, 1, ExperimentParams)\n",
    "results_df"
   ]
  },
  {
   "cell_type": "code",
   "execution_count": 61,
   "metadata": {},
   "outputs": [
    {
     "name": "stdout",
     "output_type": "stream",
     "text": [
      "Dataset: sine\n",
      "Dataset: line\n",
      "Dataset: circle\n",
      "Dataset: random\n"
     ]
    }
   ],
   "source": [
    "results_df = run_experiment(DataParams, ExperimentParams)"
   ]
  },
  {
   "cell_type": "code",
   "execution_count": 62,
   "metadata": {},
   "outputs": [
    {
     "data": {
      "text/html": [
       "<div>\n",
       "<style scoped>\n",
       "    .dataframe tbody tr th:only-of-type {\n",
       "        vertical-align: middle;\n",
       "    }\n",
       "\n",
       "    .dataframe tbody tr th {\n",
       "        vertical-align: top;\n",
       "    }\n",
       "\n",
       "    .dataframe thead th {\n",
       "        text-align: right;\n",
       "    }\n",
       "</style>\n",
       "<table border=\"1\" class=\"dataframe\">\n",
       "  <thead>\n",
       "    <tr style=\"text-align: right;\">\n",
       "      <th></th>\n",
       "      <th>dataset</th>\n",
       "      <th>scorer</th>\n",
       "      <th>gamma</th>\n",
       "      <th>hsic_score</th>\n",
       "      <th>trial</th>\n",
       "    </tr>\n",
       "  </thead>\n",
       "  <tbody>\n",
       "    <tr>\n",
       "      <th>0</th>\n",
       "      <td>sine</td>\n",
       "      <td>hsic</td>\n",
       "      <td>172.988195</td>\n",
       "      <td>0.028088</td>\n",
       "      <td>1</td>\n",
       "    </tr>\n",
       "    <tr>\n",
       "      <th>1</th>\n",
       "      <td>sine</td>\n",
       "      <td>hsic</td>\n",
       "      <td>157.620401</td>\n",
       "      <td>0.029373</td>\n",
       "      <td>1</td>\n",
       "    </tr>\n",
       "    <tr>\n",
       "      <th>2</th>\n",
       "      <td>sine</td>\n",
       "      <td>hsic</td>\n",
       "      <td>143.617839</td>\n",
       "      <td>0.030688</td>\n",
       "      <td>1</td>\n",
       "    </tr>\n",
       "    <tr>\n",
       "      <th>3</th>\n",
       "      <td>sine</td>\n",
       "      <td>hsic</td>\n",
       "      <td>130.859226</td>\n",
       "      <td>0.032032</td>\n",
       "      <td>1</td>\n",
       "    </tr>\n",
       "    <tr>\n",
       "      <th>4</th>\n",
       "      <td>sine</td>\n",
       "      <td>hsic</td>\n",
       "      <td>119.234053</td>\n",
       "      <td>0.033402</td>\n",
       "      <td>1</td>\n",
       "    </tr>\n",
       "  </tbody>\n",
       "</table>\n",
       "</div>"
      ],
      "text/plain": [
       "  dataset scorer       gamma  hsic_score  trial\n",
       "0    sine   hsic  172.988195    0.028088      1\n",
       "1    sine   hsic  157.620401    0.029373      1\n",
       "2    sine   hsic  143.617839    0.030688      1\n",
       "3    sine   hsic  130.859226    0.032032      1\n",
       "4    sine   hsic  119.234053    0.033402      1"
      ]
     },
     "execution_count": 62,
     "metadata": {},
     "output_type": "execute_result"
    }
   ],
   "source": [
    "results_df.head()"
   ]
  },
  {
   "cell_type": "code",
   "execution_count": 66,
   "metadata": {},
   "outputs": [
    {
     "data": {
      "text/plain": [
       "<matplotlib.axes._subplots.AxesSubplot at 0x7fc93faa9cc0>"
      ]
     },
     "execution_count": 66,
     "metadata": {},
     "output_type": "execute_result"
    },
    {
     "data": {
      "image/png": "[encoded data removed]",
      "text/plain": [
       "<Figure size 432x288 with 1 Axes>"
      ]
     },
     "metadata": {
      "needs_background": "light"
     },
     "output_type": "display_data"
    }
   ],
   "source": [
    "sub_df = results_df[results_df['scorer']=='hsic']\n",
    "sub_df[sub_df['dataset'] == 'random'].plot(x='gamma', y='hsic_score', logx=True)"
   ]
  },
  {
   "cell_type": "code",
   "execution_count": 19,
   "metadata": {},
   "outputs": [
    {
     "name": "stdout",
     "output_type": "stream",
     "text": [
      "Max HSIC: 0.0691\n",
      "Max Gamma (HSIC): 6.8922\n",
      "\n"
     ]
    },
    {
     "data": {
      "image/png": "[encoded data removed]",
      "text/plain": [
       "<Figure size 504x360 with 1 Axes>"
      ]
     },
     "metadata": {
      "needs_background": "light"
     },
     "output_type": "display_data"
    },
    {
     "name": "stdout",
     "output_type": "stream",
     "text": [
      "Max TKA: 0.9997\n",
      "Max Gamma (TKA): 0.0215\n",
      "\n"
     ]
    },
    {
     "data": {
      "image/png": "[encoded data removed]",
      "text/plain": [
       "<Figure size 432x288 with 1 Axes>"
      ]
     },
     "metadata": {
      "needs_background": "light"
     },
     "output_type": "display_data"
    },
    {
     "data": {
      "image/png": "[encoded data removed]",
      "text/plain": [
       "<Figure size 504x360 with 1 Axes>"
      ]
     },
     "metadata": {
      "needs_background": "light"
     },
     "output_type": "display_data"
    },
    {
     "name": "stdout",
     "output_type": "stream",
     "text": [
      "Max CTKA: 0.6639\n",
      "Max Gamma (CTKA): 1.4174\n",
      "\n"
     ]
    },
    {
     "data": {
      "image/png": "[encoded data removed]",
      "text/plain": [
       "<Figure size 432x288 with 1 Axes>"
      ]
     },
     "metadata": {
      "needs_background": "light"
     },
     "output_type": "display_data"
    },
    {
     "data": {
      "image/png": "[encoded data removed]",
      "text/plain": [
       "<Figure size 504x360 with 1 Axes>"
      ]
     },
     "metadata": {
      "needs_background": "light"
     },
     "output_type": "display_data"
    },
    {
     "data": {
      "image/png": "[encoded data removed]",
      "text/plain": [
       "<Figure size 432x288 with 1 Axes>"
      ]
     },
     "metadata": {
      "needs_background": "light"
     },
     "output_type": "display_data"
    }
   ],
   "source": [
    "plot_max_hsic(scorers, 'hsic', dataset, sigma_est)\n",
    "plot_max_hsic(scorers, 'tka', dataset, sigma_est)\n",
    "plot_max_hsic(scorers, 'ctka', dataset, sigma_est)"
   ]
  },
  {
   "cell_type": "markdown",
   "metadata": {},
   "source": [
    "So as you can see, there exists some space of gamma that would fit our problem and the actual value of HSIC and cKTA changes. I also don't see any direct correspondence between the two values. Neither really make sense. There is a maximum HSIC value but that doesn't necessarily mean it's the best one."
   ]
  },
  {
   "cell_type": "code",
   "execution_count": null,
   "metadata": {},
   "outputs": [],
   "source": []
  }
 ],
 "metadata": {
  "kernelspec": {
   "display_name": "Python [conda env:.conda-it4dnn]",
   "language": "python",
   "name": "conda-env-.conda-it4dnn-py"
  },
  "language_info": {
   "codemirror_mode": {
    "name": "ipython",
    "version": 3
   },
   "file_extension": ".py",
   "mimetype": "text/x-python",
   "name": "python",
   "nbconvert_exporter": "python",
   "pygments_lexer": "ipython3",
   "version": "3.6.10"
  }
 },
 "nbformat": 4,
 "nbformat_minor": 4
}
