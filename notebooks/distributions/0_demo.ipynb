{
 "cells": [
  {
   "cell_type": "markdown",
   "metadata": {},
   "source": [
    "# Distribution Experiment"
   ]
  },
  {
   "cell_type": "code",
   "execution_count": 19,
   "metadata": {},
   "outputs": [
    {
     "name": "stdout",
     "output_type": "stream",
     "text": [
      "The autoreload extension is already loaded. To reload it, use:\n",
      "  %reload_ext autoreload\n"
     ]
    }
   ],
   "source": [
    "import sys, os\n",
    "import warnings\n",
    "import tqdm\n",
    "import random\n",
    "import pandas as pd\n",
    "import numpy as np\n",
    "\n",
    "import matplotlib.pyplot as plt\n",
    "\n",
    "# Insert path to model directory,.\n",
    "cwd = os.getcwd()\n",
    "path = f\"{cwd}/../../src\"\n",
    "sys.path.insert(0, path)\n",
    "\n",
    "# toy datasets\n",
    "from data.toy import RBIGData\n",
    "\n",
    "# Kernel Dependency measure\n",
    "from models.dependence import HSIC, train_rbf_hsic\n",
    "from models.kernel import estimate_sigma, sigma_to_gamma, gamma_to_sigma, get_param_grid\n",
    "\n",
    "# RBIG IT measures\n",
    "from models.ite_algorithms import run_rbig_models\n",
    "\n",
    "import scipy.io as scio\n",
    "\n",
    "import matplotlib\n",
    "import matplotlib.pyplot as plt\n",
    "import seaborn as sns\n",
    "%matplotlib inline\n",
    "\n",
    "warnings.filterwarnings('ignore') # get rid of annoying warnings\n",
    "\n",
    "%load_ext autoreload\n",
    "%autoreload 2"
   ]
  },
  {
   "cell_type": "markdown",
   "metadata": {},
   "source": [
    "## Datasets\n",
    "\n",
    "* Samples - [500, 1K, 5K, 10K, 30K, 50K]\n",
    "* Dimensions - [ 2, 3, 10, 50, 100]\n",
    "* trials - [1,5]\n",
    "* IT measures - [TC, H, MI, KLD]\n",
    "* Distributions - [Linear, Gaussian, T-Student]"
   ]
  },
  {
   "cell_type": "markdown",
   "metadata": {},
   "source": [
    "### Example - Gaussian Distribution"
   ]
  },
  {
   "cell_type": "code",
   "execution_count": 20,
   "metadata": {},
   "outputs": [],
   "source": [
    "data_path = \"/media/disk/erc/papers/2018_RBIG_IT_measures/2018_RBIG_IT_measures/reproducible_results/DATA/\"\n",
    "gauss_data = f\"{data_path}MI_gaus/\"\n",
    "sample_data = \"DATA_MI_gaus_nd_3_Ns_500_tryal_1.mat\""
   ]
  },
  {
   "cell_type": "code",
   "execution_count": 10,
   "metadata": {},
   "outputs": [],
   "source": [
    "dat = scio.loadmat(f\"{gauss_data}{sample_data}\")"
   ]
  },
  {
   "cell_type": "code",
   "execution_count": 22,
   "metadata": {},
   "outputs": [],
   "source": [
    "X, Y, mi_val = dat['X'], dat['Y'], dat['MI_ori_nats']"
   ]
  },
  {
   "cell_type": "markdown",
   "metadata": {},
   "source": [
    "#### Using the Helper function"
   ]
  },
  {
   "cell_type": "code",
   "execution_count": null,
   "metadata": {},
   "outputs": [],
   "source": [
    "class MIData:\n",
    "    def __init__(self, distribution: Optional['gauss'])-> None:\n",
    "        \n",
    "        self.distribution = distribution\n",
    "        self.data_path = \"/media/disk/erc/papers/2018_RBIG_IT_measures/2018_RBIG_IT_measures/reproducible_results/DATA/\"\n",
    "        \n",
    "        if self.distribution == 'gauss':\n",
    "            self.dist_path = f\"{self.data_path}MI_gaus/\"\n",
    "        elif self.distribution == 'tstudent'\n",
    "            self.dist_path = f\"{self.data_path}MI_tstu/\"\n",
    "        else:\n",
    "            raise ValueError(f\"Unrecognized Dataset: {distribution}\")\n",
    "            \n",
    "    def get_data(self, )"
   ]
  },
  {
   "cell_type": "code",
   "execution_count": 2,
   "metadata": {},
   "outputs": [],
   "source": [
    "# dataset params\n",
    "dataset = 'gauss'\n",
    "info_meas = 'mi'\n",
    "\n",
    "# initialize dataset Gen\n",
    "clf_rbigdata = RBIGData(dataset=dataset, info_meas=info_meas)\n",
    "\n",
    "# extract data and results\n",
    "d_dimensions = 2\n",
    "n_samples = 500\n",
    "t_trials = 2\n",
    "nu = None\n",
    "mu = None\n",
    "\n",
    "data = clf_rbigdata.get_data(\n",
    "    d_dimensions=d_dimensions, \n",
    "    n_samples=n_samples,\n",
    "    t_trials=t_trials,\n",
    "    nu=nu,\n",
    "    mu=mu\n",
    ")\n",
    "\n",
    "X_, Y_, mi_val_ = dat['X'], dat['Y'], dat['MI_ori_nats']"
   ]
  },
  {
   "cell_type": "code",
   "execution_count": null,
   "metadata": {},
   "outputs": [],
   "source": [
    "assert(X == X_)"
   ]
  }
 ],
 "metadata": {
  "kernelspec": {
   "display_name": "Python [conda env:.conda-it4dnn]",
   "language": "python",
   "name": "conda-env-.conda-it4dnn-py"
  },
  "language_info": {
   "codemirror_mode": {
    "name": "ipython",
    "version": 3
   },
   "file_extension": ".py",
   "mimetype": "text/x-python",
   "name": "python",
   "nbconvert_exporter": "python",
   "pygments_lexer": "ipython3",
   "version": "3.6.9"
  }
 },
 "nbformat": 4,
 "nbformat_minor": 2
}
