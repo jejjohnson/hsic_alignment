{
 "cells": [
  {
   "cell_type": "code",
   "execution_count": 1,
   "metadata": {},
   "outputs": [],
   "source": [
    "import sys, os\n",
    "import warnings\n",
    "import tqdm\n",
    "import random\n",
    "import pandas as pd\n",
    "import numpy as np\n",
    "\n",
    "import matplotlib.pyplot as plt\n",
    "\n",
    "# Insert path to model directory,.\n",
    "cwd = os.getcwd()\n",
    "path = f\"{cwd}/../../src\"\n",
    "sys.path.insert(0, path)\n",
    "\n",
    "# toy datasets\n",
    "from data.toy import RBIGData\n",
    "\n",
    "# Experiments\n",
    "from experiments.distributions import DistributionExp\n",
    "\n",
    "# Kernel Dependency measure\n",
    "from models.dependence import HSIC, train_rbf_hsic\n",
    "from models.kernel import estimate_sigma, sigma_to_gamma, gamma_to_sigma, get_param_grid\n",
    "\n",
    "# RBIG IT measures\n",
    "from models.ite_algorithms import run_rbig_models\n",
    "\n",
    "import scipy.io as scio\n",
    "\n",
    "import matplotlib\n",
    "import matplotlib.pyplot as plt\n",
    "import seaborn as sns\n",
    "%matplotlib inline\n",
    "\n",
    "warnings.filterwarnings('ignore') # get rid of annoying warnings\n",
    "\n",
    "%load_ext autoreload\n",
    "%autoreload 2"
   ]
  },
  {
   "cell_type": "markdown",
   "metadata": {},
   "source": [
    "## Trial Experiment\n",
    "\n",
    "I am basically just testing the script that I use on the SLURM server before I send it off to the batch processing."
   ]
  },
  {
   "cell_type": "code",
   "execution_count": null,
   "metadata": {},
   "outputs": [],
   "source": [
    "SAVE_PATH = \"/home/emmanuel/projects/2019_hsic_align/results/hsic/\"\n",
    "\n",
    "clf_exp = DistributionExp(\n",
    "    seed=123,\n",
    "    factor=1,\n",
    "    sigma_est='median',\n",
    "    n_gamma=10,\n",
    "    save_path=SAVE_PATH,\n",
    "    save_name='dist_v2_belkin',\n",
    ")\n",
    "\n",
    "# run full experiment\n",
    "clf_exp.run_experiment()"
   ]
  }
 ],
 "metadata": {
  "kernelspec": {
   "display_name": "Python [conda env:.conda-it4dnn]",
   "language": "python",
   "name": "conda-env-.conda-it4dnn-py"
  },
  "language_info": {
   "codemirror_mode": {
    "name": "ipython",
    "version": 3
   },
   "file_extension": ".py",
   "mimetype": "text/x-python",
   "name": "python",
   "nbconvert_exporter": "python",
   "pygments_lexer": "ipython3",
   "version": "3.6.9"
  }
 },
 "nbformat": 4,
 "nbformat_minor": 2
}
