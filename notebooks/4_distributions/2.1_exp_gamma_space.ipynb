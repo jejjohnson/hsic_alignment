{
 "cells": [
  {
   "cell_type": "markdown",
   "metadata": {},
   "source": [
    "# Walkthrough - Gamma in the Distribution Sapce\n",
    "\n"
   ]
  },
  {
   "cell_type": "code",
   "execution_count": 243,
   "metadata": {},
   "outputs": [
    {
     "name": "stdout",
     "output_type": "stream",
     "text": [
      "The autoreload extension is already loaded. To reload it, use:\n",
      "  %reload_ext autoreload\n"
     ]
    }
   ],
   "source": [
    "import sys, os\n",
    "\n",
    "# Insert path to model directory,.\n",
    "cwd = os.getcwd()\n",
    "path = f\"{cwd}/../../src\"\n",
    "sys.path.insert(0, path)\n",
    "\n",
    "# Insert path to package,.\n",
    "pysim_path = f\"/home/emmanuel/code/pysim/\"\n",
    "sys.path.insert(0, pysim_path)\n",
    "\n",
    "import warnings\n",
    "from tqdm import tqdm\n",
    "import random\n",
    "import pandas as pd\n",
    "import numpy as np\n",
    "import argparse\n",
    "from sklearn.utils import check_random_state\n",
    "\n",
    "# toy datasets\n",
    "from data.distribution import DataParams\n",
    "\n",
    "from features.utils import dict_product\n",
    "\n",
    "\n",
    "# Kernel Dependency measure\n",
    "from pysim.kernel.hsic import HSIC\n",
    "from pysim.kernel.utils import estimate_gamma, GammaParam\n",
    "\n",
    "# RBIG IT measures\n",
    "from models.ite_algorithms import run_rbig_models\n",
    "from models.dependence import HSICModel\n",
    "\n",
    "# Plotting\n",
    "from visualization.distribution import plot_scorer\n",
    "\n",
    "# experiment helpers\n",
    "from tqdm import tqdm\n",
    "\n",
    "# Plotting Procedures\n",
    "import matplotlib\n",
    "import matplotlib.pyplot as plt\n",
    "import seaborn as sns\n",
    "plt.style.use(['seaborn-talk'])\n",
    "warnings.filterwarnings('ignore') # get rid of annoying warnings\n",
    "%matplotlib inline\n",
    "\n",
    "warnings.filterwarnings('ignore') # get rid of annoying warnings\n",
    "\n",
    "%load_ext autoreload\n",
    "%autoreload 2"
   ]
  },
  {
   "cell_type": "markdown",
   "metadata": {},
   "source": [
    "## Datasets\n",
    "\n",
    "* Samples - [500, 1K, 5K, 10K, 30K, 50K]\n",
    "* Dimensions - [ 2, 3, 10, 50, 100]\n",
    "* trials - `1:5`\n",
    "* IT measures - Mutual Information\n",
    "* Distributions - [Gaussian, T-Student]"
   ]
  },
  {
   "cell_type": "markdown",
   "metadata": {},
   "source": [
    "## Example Gaussian Distribution: 2D"
   ]
  },
  {
   "cell_type": "markdown",
   "metadata": {},
   "source": [
    "#### 1. Generate Data"
   ]
  },
  {
   "cell_type": "code",
   "execution_count": 220,
   "metadata": {},
   "outputs": [
    {
     "data": {
      "text/plain": [
       "\u001b[0;31mInit signature:\u001b[0m\n",
       "\u001b[0mDataParams\u001b[0m\u001b[0;34m(\u001b[0m\u001b[0;34m\u001b[0m\n",
       "\u001b[0;34m\u001b[0m    \u001b[0mdataset\u001b[0m\u001b[0;34m:\u001b[0m \u001b[0mstr\u001b[0m \u001b[0;34m=\u001b[0m \u001b[0;34m'gauss'\u001b[0m\u001b[0;34m,\u001b[0m\u001b[0;34m\u001b[0m\n",
       "\u001b[0;34m\u001b[0m    \u001b[0msamples\u001b[0m\u001b[0;34m:\u001b[0m \u001b[0mint\u001b[0m \u001b[0;34m=\u001b[0m \u001b[0;36m100\u001b[0m\u001b[0;34m,\u001b[0m\u001b[0;34m\u001b[0m\n",
       "\u001b[0;34m\u001b[0m    \u001b[0mdimensions\u001b[0m\u001b[0;34m:\u001b[0m \u001b[0mint\u001b[0m \u001b[0;34m=\u001b[0m \u001b[0;36m2\u001b[0m\u001b[0;34m,\u001b[0m\u001b[0;34m\u001b[0m\n",
       "\u001b[0;34m\u001b[0m    \u001b[0mstd\u001b[0m\u001b[0;34m:\u001b[0m \u001b[0mint\u001b[0m \u001b[0;34m=\u001b[0m \u001b[0;36m1\u001b[0m\u001b[0;34m,\u001b[0m\u001b[0;34m\u001b[0m\n",
       "\u001b[0;34m\u001b[0m    \u001b[0mtrial\u001b[0m\u001b[0;34m:\u001b[0m \u001b[0mint\u001b[0m \u001b[0;34m=\u001b[0m \u001b[0;36m1\u001b[0m\u001b[0;34m,\u001b[0m\u001b[0;34m\u001b[0m\n",
       "\u001b[0;34m\u001b[0m    \u001b[0mnu\u001b[0m\u001b[0;34m:\u001b[0m \u001b[0mint\u001b[0m \u001b[0;34m=\u001b[0m \u001b[0;36m1\u001b[0m\u001b[0;34m,\u001b[0m\u001b[0;34m\u001b[0m\n",
       "\u001b[0;34m\u001b[0m\u001b[0;34m)\u001b[0m \u001b[0;34m->\u001b[0m \u001b[0;32mNone\u001b[0m\u001b[0;34m\u001b[0m\u001b[0;34m\u001b[0m\u001b[0m\n",
       "\u001b[0;31mDocstring:\u001b[0m     \n",
       "A dataclass which holds all of the options to \n",
       "generate datasets. \n",
       "\n",
       "Parameters\n",
       "-------\n",
       "trials : int, default=1\n",
       "    {1, 2, 3, 4, 5}\n",
       "\n",
       "samples : int, default=100\n",
       "    {50, 100, 500, 1_000, 5_000}\n",
       "\n",
       "dimensions : int, default = 2\n",
       "    {2, 3, 10, 50, 100}\n",
       "\n",
       "std : int, default=2\n",
       "    {1, 2, 3, 4, 5, 6, 7, 8, 9, 10, 11}\n",
       "    \n",
       "nu : int, default = 2 \n",
       "    {1, 2, 3, 4, 5, 6, 7, 8, 9}\n",
       "\u001b[0;31mFile:\u001b[0m           ~/projects/2019_hsic_align/src/data/distribution.py\n",
       "\u001b[0;31mType:\u001b[0m           type\n",
       "\u001b[0;31mSubclasses:\u001b[0m     \n"
      ]
     },
     "metadata": {},
     "output_type": "display_data"
    }
   ],
   "source": [
    "DataParams?"
   ]
  },
  {
   "cell_type": "code",
   "execution_count": 221,
   "metadata": {},
   "outputs": [
    {
     "data": {
      "text/plain": [
       "Dataset: gauss\n",
       "Samples: 100\n",
       "Dimensions: 2\n",
       "Standard Deviation: 1\n",
       "Nu: 1\n",
       "Trial: 1"
      ]
     },
     "execution_count": 221,
     "metadata": {},
     "output_type": "execute_result"
    }
   ],
   "source": [
    "example_params = DataParams()\n",
    "example_params"
   ]
  },
  {
   "cell_type": "code",
   "execution_count": 222,
   "metadata": {},
   "outputs": [
    {
     "data": {
      "text/plain": [
       "'gauss'"
      ]
     },
     "execution_count": 222,
     "metadata": {},
     "output_type": "execute_result"
    }
   ],
   "source": [
    "example_params.dataset"
   ]
  },
  {
   "cell_type": "code",
   "execution_count": 223,
   "metadata": {},
   "outputs": [
    {
     "data": {
      "text/plain": [
       "\u001b[0;31mSignature:\u001b[0m \u001b[0mexample_params\u001b[0m\u001b[0;34m.\u001b[0m\u001b[0mgenerate_data\u001b[0m\u001b[0;34m(\u001b[0m\u001b[0;34m)\u001b[0m \u001b[0;34m->\u001b[0m \u001b[0mdata\u001b[0m\u001b[0;34m.\u001b[0m\u001b[0mdistribution\u001b[0m\u001b[0;34m.\u001b[0m\u001b[0mInputs\u001b[0m\u001b[0;34m\u001b[0m\u001b[0;34m\u001b[0m\u001b[0m\n",
       "\u001b[0;31mDocstring:\u001b[0m\n",
       "Helper function to generate data using the \n",
       "parameters above.\n",
       "\u001b[0;31mFile:\u001b[0m      ~/projects/2019_hsic_align/src/data/distribution.py\n",
       "\u001b[0;31mType:\u001b[0m      method\n"
      ]
     },
     "metadata": {},
     "output_type": "display_data"
    }
   ],
   "source": [
    "example_params.generate_data?"
   ]
  },
  {
   "cell_type": "code",
   "execution_count": 225,
   "metadata": {},
   "outputs": [
    {
     "data": {
      "text/plain": [
       "\u001b[0;31mType:\u001b[0m        Inputs\n",
       "\u001b[0;31mString form:\u001b[0m\n",
       "Inputs(X=array([[ 0.97944888,  0.33959587],\n",
       "           [-0.26561127, -0.73802495],\n",
       "           [-0.5483727 <...> 10155 ],\n",
       "           [-1.5919696 ,  0.30211001],\n",
       "           [-0.2814283 , -0.90755104]]), mutual_info=0.0)\n",
       "\u001b[0;31mLength:\u001b[0m      3\n",
       "\u001b[0;31mFile:\u001b[0m        ~/projects/2019_hsic_align/src/data/distribution.py\n",
       "\u001b[0;31mDocstring:\u001b[0m  \n",
       "Helpful data holder which stores:\n",
       "\n",
       "X : np.ndarray, (n_samples, n_features)\n",
       "\n",
       "Y : np.ndarray, (n_samples, n_features)\n",
       "\n",
       "mutual_info : float\n",
       "    the mutual information value\n"
      ]
     },
     "metadata": {},
     "output_type": "display_data"
    }
   ],
   "source": [
    "inputs = example_params.generate_data()\n",
    "inputs?"
   ]
  },
  {
   "cell_type": "markdown",
   "metadata": {},
   "source": [
    "#### 2. Plot Data"
   ]
  },
  {
   "cell_type": "code",
   "execution_count": 226,
   "metadata": {},
   "outputs": [
    {
     "data": {
      "text/plain": [
       "<Figure size 720x720 with 0 Axes>"
      ]
     },
     "metadata": {},
     "output_type": "display_data"
    },
    {
     "data": {
      "image/png": "[encoded data removed]",
      "text/plain": [
       "<Figure size 432x432 with 3 Axes>"
      ]
     },
     "metadata": {
      "needs_background": "light"
     },
     "output_type": "display_data"
    },
    {
     "data": {
      "text/plain": [
       "<Figure size 720x720 with 0 Axes>"
      ]
     },
     "metadata": {},
     "output_type": "display_data"
    },
    {
     "data": {
      "image/png": "[encoded data removed]",
      "text/plain": [
       "<Figure size 432x432 with 3 Axes>"
      ]
     },
     "metadata": {
      "needs_background": "light"
     },
     "output_type": "display_data"
    }
   ],
   "source": [
    "# plot data\n",
    "fig  = plt.figure(figsize=(10, 10))\n",
    "\n",
    "g = sns.jointplot(\n",
    "    x=inputs.X[:, 0],\n",
    "    y=inputs.X[:, 1],\n",
    ")\n",
    "plt.title('X')\n",
    "plt.show()\n",
    "\n",
    "# plot data\n",
    "fig  = plt.figure(figsize=(10, 10))\n",
    "\n",
    "g = sns.jointplot(\n",
    "    x=inputs.Y[:, 0],\n",
    "    y=inputs.Y[:, 1],\n",
    ")\n",
    "plt.title('Y')\n",
    "plt.show()"
   ]
  },
  {
   "cell_type": "markdown",
   "metadata": {},
   "source": [
    "## HSIC Algorithms"
   ]
  },
  {
   "cell_type": "markdown",
   "metadata": {},
   "source": [
    "### HSIC\n",
    "\n",
    "**algorithm path**: *src/models/dependence.py*"
   ]
  },
  {
   "cell_type": "markdown",
   "metadata": {},
   "source": [
    "#### 1. Estimate Gamma"
   ]
  },
  {
   "cell_type": "code",
   "execution_count": 239,
   "metadata": {},
   "outputs": [
    {
     "name": "stdout",
     "output_type": "stream",
     "text": [
      "Gamma_x:  0.7023907854424224\n",
      "Gamma_y:  0.8115698604887414\n"
     ]
    }
   ],
   "source": [
    "# init gamma estimator\n",
    "gamma_estimator = GammaParam(method='median', percent=None, scale=None)\n",
    "\n",
    "# estimate sigma\n",
    "gamma_X = gamma_estimator.estimate_gamma(X=inputs.X, )\n",
    "gamma_Y = gamma_estimator.estimate_gamma(X=inputs.Y, )\n",
    "\n",
    "print(f'Gamma_x: ', gamma_X)\n",
    "print(f'Gamma_y: ', gamma_Y)"
   ]
  },
  {
   "cell_type": "markdown",
   "metadata": {},
   "source": [
    "#### 2. Estimate HSIC"
   ]
  },
  {
   "cell_type": "code",
   "execution_count": 235,
   "metadata": {},
   "outputs": [
    {
     "name": "stdout",
     "output_type": "stream",
     "text": [
      "HSIC: 0.00550\n"
     ]
    }
   ],
   "source": [
    "# init hsic model class\n",
    "hsic_model = HSICModel()\n",
    "\n",
    "# hsic model params\n",
    "hsic_model.gamma_X = gamma_X\n",
    "hsic_model.gamma_Y = gamma_Y\n",
    "\n",
    "# get hsic score\n",
    "hsic_val = hsic_model.get_score(inputs.X, inputs.Y, 'hsic')\n",
    "\n",
    "print(f\"HSIC: {hsic_val:.5f}\")"
   ]
  },
  {
   "cell_type": "markdown",
   "metadata": {},
   "source": [
    "## Experiment I - Different Scorers"
   ]
  },
  {
   "cell_type": "markdown",
   "metadata": {},
   "source": [
    "We are looking at different \"HSIC scorers\". They are:\n",
    "\n",
    "---\n",
    "**HSIC**\n",
    "\n",
    "$$HSIC = \\frac{1}{n(n-1)}\\langle K_xH,K_yH \\rangle_F$$\n",
    "\n",
    "Notice: we have the centered kernels, $K_xH$ and no normalization.\n",
    "\n",
    "---\n",
    "**TKA** \n",
    "\n",
    "$$TKA = \\frac{\\langle K_x,K_y \\rangle_F}{||K_x||_F||K_y||_F}$$\n",
    "\n",
    "Notice: We have the uncentered kernels and a normalization factor.\n",
    "\n",
    "---\n",
    "**cTKA**\n",
    "\n",
    "$$cTKA = \\frac{\\langle K_xH,K_yH \\rangle_F}{||K_xH||_F||K_yH||_F}$$\n",
    "\n",
    "Notice: We have the centered kernels and a normalization factor."
   ]
  },
  {
   "cell_type": "code",
   "execution_count": 236,
   "metadata": {},
   "outputs": [
    {
     "name": "stdout",
     "output_type": "stream",
     "text": [
      "HSIC: 0.0055\n",
      "KA: 0.4690\n",
      "CKA: 0.0860\n"
     ]
    }
   ],
   "source": [
    "# experimental parameters\n",
    "hsic_model = HSICModel()\n",
    "\n",
    "# hsic model params\n",
    "hsic_model.gamma_X = gamma_X\n",
    "hsic_model.gamma_Y = gamma_Y\n",
    "\n",
    "\n",
    "\n",
    "scores = dict()\n",
    "\n",
    "# loop through scorers\n",
    "for iscorer in ['hsic', 'ka', 'cka']:\n",
    "    \n",
    "    # calculate hsic score\n",
    "    iscore = hsic_model.get_score(inputs.X, inputs.Y, iscorer)\n",
    "    \n",
    "    # get HSIC value\n",
    "    print(f'{iscorer.upper()}: {iscore:.4f}')"
   ]
  },
  {
   "cell_type": "markdown",
   "metadata": {},
   "source": [
    "There is an obvious difference between each of them even though the distribution hasn't changed at all. It's clear that each of the methods have a slightly different form. So perhaps it's something to do with the parameters we've chosen. We need to investigate things further."
   ]
  },
  {
   "cell_type": "markdown",
   "metadata": {},
   "source": [
    "## Experiment II - Gamma Space"
   ]
  },
  {
   "cell_type": "markdown",
   "metadata": {},
   "source": [
    "### Method 2 - Multiprocessing"
   ]
  },
  {
   "cell_type": "code",
   "execution_count": 365,
   "metadata": {},
   "outputs": [],
   "source": [
    "from experiments.utils import dict_product, run_parallel_step"
   ]
  },
  {
   "cell_type": "code",
   "execution_count": 366,
   "metadata": {},
   "outputs": [
    {
     "name": "stdout",
     "output_type": "stream",
     "text": [
      "# of Params: 7500\n"
     ]
    }
   ],
   "source": [
    "# Data Parameters\n",
    "example_data = DataParams()\n",
    "example_data.std = 10\n",
    "inputs = example_data.generate_data()\n",
    "\n",
    "\n",
    "# experimental parameters\n",
    "n_grid_points = 50\n",
    "gamma_grid = np.logspace(-2, 2, n_grid_points)\n",
    "parameters = {\n",
    "    \"scorer\": ['hsic', 'ka', 'cka'],\n",
    "    \"gamma_X\": np.copy(gamma_grid),\n",
    "    \"gamma_Y\": np.copy(gamma_grid),\n",
    "}\n",
    "\n",
    "# create a list of all param combinations\n",
    "parameters = list(dict_product(parameters))\n",
    "n_params = len(parameters)\n",
    "print('# of Params:', n_params)"
   ]
  },
  {
   "cell_type": "code",
   "execution_count": 367,
   "metadata": {},
   "outputs": [],
   "source": [
    "# define step function\n",
    "def step(params: Dict, inputs):\n",
    "    \n",
    "    # init hsic model class\n",
    "    hsic_model = ModelParams()\n",
    "    \n",
    "    # hsic model params\n",
    "    hsic_model.gamma_X = params['gamma_X']\n",
    "    hsic_model.gamma_Y = params['gamma_Y']\n",
    "\n",
    "    # get hsic score\n",
    "    score = hsic_model.get_score(inputs.X, inputs.Y, params['scorer'])\n",
    "    \n",
    "    results_df = pd.DataFrame({\n",
    "        'scorer': [params['scorer']],\n",
    "        'gamma_X': [params['gamma_X']],\n",
    "        'gamma_Y': [params['gamma_Y']],\n",
    "        'score': score,\n",
    "    },)\n",
    "    \n",
    "    return results_df"
   ]
  },
  {
   "cell_type": "code",
   "execution_count": 368,
   "metadata": {},
   "outputs": [
    {
     "name": "stderr",
     "output_type": "stream",
     "text": [
      "[Parallel(n_jobs=5)]: Using backend LokyBackend with 5 concurrent workers.\n",
      "[Parallel(n_jobs=5)]: Done  50 tasks      | elapsed:    2.0s\n",
      "[Parallel(n_jobs=5)]: Done 7176 tasks      | elapsed:    8.6s\n",
      "[Parallel(n_jobs=5)]: Done 7500 out of 7500 | elapsed:    9.2s finished\n"
     ]
    }
   ],
   "source": [
    "verbose = 1\n",
    "n_jobs = 5\n",
    "\n",
    "results = run_parallel_step(\n",
    "    exp_step=step, \n",
    "    parameters=parameters,\n",
    "    n_jobs=n_jobs,\n",
    "    verbose=verbose,\n",
    "    inputs=inputs\n",
    ")"
   ]
  },
  {
   "cell_type": "code",
   "execution_count": 369,
   "metadata": {},
   "outputs": [
    {
     "data": {
      "text/html": [
       "<div>\n",
       "<style scoped>\n",
       "    .dataframe tbody tr th:only-of-type {\n",
       "        vertical-align: middle;\n",
       "    }\n",
       "\n",
       "    .dataframe tbody tr th {\n",
       "        vertical-align: top;\n",
       "    }\n",
       "\n",
       "    .dataframe thead th {\n",
       "        text-align: right;\n",
       "    }\n",
       "</style>\n",
       "<table border=\"1\" class=\"dataframe\">\n",
       "  <thead>\n",
       "    <tr style=\"text-align: right;\">\n",
       "      <th></th>\n",
       "      <th>scorer</th>\n",
       "      <th>gamma_X</th>\n",
       "      <th>gamma_Y</th>\n",
       "      <th>score</th>\n",
       "    </tr>\n",
       "  </thead>\n",
       "  <tbody>\n",
       "    <tr>\n",
       "      <th>7495</th>\n",
       "      <td>cka</td>\n",
       "      <td>100.0</td>\n",
       "      <td>47.148664</td>\n",
       "      <td>0.818098</td>\n",
       "    </tr>\n",
       "    <tr>\n",
       "      <th>7496</th>\n",
       "      <td>cka</td>\n",
       "      <td>100.0</td>\n",
       "      <td>56.898660</td>\n",
       "      <td>0.835625</td>\n",
       "    </tr>\n",
       "    <tr>\n",
       "      <th>7497</th>\n",
       "      <td>cka</td>\n",
       "      <td>100.0</td>\n",
       "      <td>68.664885</td>\n",
       "      <td>0.851295</td>\n",
       "    </tr>\n",
       "    <tr>\n",
       "      <th>7498</th>\n",
       "      <td>cka</td>\n",
       "      <td>100.0</td>\n",
       "      <td>82.864277</td>\n",
       "      <td>0.865192</td>\n",
       "    </tr>\n",
       "    <tr>\n",
       "      <th>7499</th>\n",
       "      <td>cka</td>\n",
       "      <td>100.0</td>\n",
       "      <td>100.000000</td>\n",
       "      <td>0.877417</td>\n",
       "    </tr>\n",
       "  </tbody>\n",
       "</table>\n",
       "</div>"
      ],
      "text/plain": [
       "     scorer  gamma_X     gamma_Y     score\n",
       "7495    cka    100.0   47.148664  0.818098\n",
       "7496    cka    100.0   56.898660  0.835625\n",
       "7497    cka    100.0   68.664885  0.851295\n",
       "7498    cka    100.0   82.864277  0.865192\n",
       "7499    cka    100.0  100.000000  0.877417"
      ]
     },
     "execution_count": 369,
     "metadata": {},
     "output_type": "execute_result"
    }
   ],
   "source": [
    "results_full_df = pd.concat(results, ignore_index=True)\n",
    "results_full_df.tail()"
   ]
  },
  {
   "cell_type": "markdown",
   "metadata": {},
   "source": [
    "### Viz - Heatmap of Values"
   ]
  },
  {
   "cell_type": "code",
   "execution_count": 370,
   "metadata": {},
   "outputs": [],
   "source": [
    "def plot_gamma_grid(grid_df: pd.DataFrame, scorer: str, ax: Optional=None):\n",
    "    \n",
    "    if ax is None:\n",
    "        fig, ax = plt.subplots(figsize=(8,6.5))\n",
    "    \n",
    "    # ===========================================\n",
    "    # Plot Gridded DataFrame\n",
    "    # ===========================================\n",
    "    \n",
    "\n",
    "    # subset hsic method\n",
    "    grid_df_ = grid_df[grid_df['scorer'] == scorer].drop('scorer', axis=1)\n",
    "    \n",
    "    # create a heatmap\n",
    "    grid_df_ = pd.pivot_table(grid_df_, values='score', index=['gamma_Y'], columns='gamma_X')\n",
    "#     print(grid_df_)\n",
    "    # min max\n",
    "    if scorer == 'hsic':\n",
    "        vmax = 0.11\n",
    "    else:\n",
    "        vmax = 1.0\n",
    "\n",
    "    # heatmap_data.columns = np.sqrt(1 / 2 * heatmap_data.columns.values)\n",
    "    # heatmap_data.index = np.sqrt(1 / 2 * heatmap_data.index.values)\n",
    "    pts = sns.heatmap(\n",
    "        data=grid_df_,\n",
    "        xticklabels=grid_df_.columns.values.round(decimals=2),\n",
    "        yticklabels=grid_df_.index.values.round(decimals=2),\n",
    "        vmin=0, vmax=vmax, ax=ax\n",
    "    )\n",
    "    \n",
    "\n",
    "    return plt.gcf(), ax"
   ]
  },
  {
   "cell_type": "code",
   "execution_count": 371,
   "metadata": {},
   "outputs": [
    {
     "data": {
      "image/png": "[encoded data removed]",
      "text/plain": [
       "<Figure size 576x468 with 2 Axes>"
      ]
     },
     "metadata": {
      "needs_background": "light"
     },
     "output_type": "display_data"
    }
   ],
   "source": [
    "# # =======================\n",
    "# # HSIC\n",
    "# # =======================\n",
    "# scorer = 'hsic'\n",
    "\n",
    "# fig, ax = plot_gamma_grid(param_df, scorer=scorer)\n",
    "\n",
    "# # ax.legend(ncol=1, fontsize=15)\n",
    "# ax.set_xlabel(r'$\\gamma_X$')\n",
    "# ax.set_ylabel(r'$\\gamma_Y$')\n",
    "# ax.set_title(f'{scorer.upper()} Score, MI: {inputs.mutual_info:.2f}')\n",
    "# plt.tight_layout()\n",
    "# plt.show()\n",
    "\n",
    "# # =======================\n",
    "# # Kernel Alignment\n",
    "# # =======================\n",
    "# scorer = 'ka'\n",
    "\n",
    "# fig, ax = plot_gamma_grid(param_df, scorer=scorer)\n",
    "\n",
    "# # ax.legend(ncol=1, fontsize=15)\n",
    "# ax.set_xlabel(r'$\\gamma_X$')\n",
    "# ax.set_ylabel(r'$\\gamma_Y$')\n",
    "# ax.set_title(f'{scorer.upper()} Score, MI: {inputs.mutual_info:.2f}')\n",
    "# plt.tight_layout()\n",
    "# plt.show()\n",
    "\n",
    "# ==========================\n",
    "# Centered Kernel Alignment\n",
    "# ==========================\n",
    "scorer = 'hsic'\n",
    "\n",
    "fig, ax = plot_gamma_grid(results_full_df, scorer=scorer)\n",
    "\n",
    "# ax.legend(ncol=1, fontsize=15)\n",
    "ax.set_xlabel(r'$\\gamma_X$')\n",
    "ax.set_ylabel(r'$\\gamma_Y$')\n",
    "ax.set_title(f'{scorer.upper()} Score, MI: {inputs.mutual_info:.2f}')\n",
    "plt.tight_layout()\n",
    "plt.show()"
   ]
  },
  {
   "cell_type": "markdown",
   "metadata": {},
   "source": [
    "## Experiment III - Gamma Estimators "
   ]
  },
  {
   "cell_type": "code",
   "execution_count": 372,
   "metadata": {},
   "outputs": [
    {
     "name": "stdout",
     "output_type": "stream",
     "text": [
      "# of Params: 33\n"
     ]
    }
   ],
   "source": [
    "# Data Parameters\n",
    "example_data = DataParams()\n",
    "example_data.std = 10\n",
    "inputs = example_data.generate_data()\n",
    "\n",
    "\n",
    "# experimental parameters\n",
    "parameters = {\n",
    "    \"scorer\": ['hsic', 'ka', 'cka'],\n",
    "    \"gamma_est\": [\n",
    "    ('silverman',None, None),\n",
    "    ('scott', None, None),\n",
    "    *[('median', x, None) for x in np.arange(0.1, 1.0, 0.1, dtype=np.float64)]\n",
    "]\n",
    "}\n",
    "\n",
    "# create a list of all param combinations\n",
    "parameters = list(dict_product(parameters))\n",
    "n_params = len(parameters)\n",
    "print('# of Params:', n_params)"
   ]
  },
  {
   "cell_type": "code",
   "execution_count": 364,
   "metadata": {},
   "outputs": [
    {
     "data": {
      "text/plain": [
       "dict"
      ]
     },
     "execution_count": 364,
     "metadata": {},
     "output_type": "execute_result"
    }
   ],
   "source": [
    "type(parameters[0])"
   ]
  },
  {
   "cell_type": "code",
   "execution_count": 373,
   "metadata": {},
   "outputs": [
    {
     "name": "stderr",
     "output_type": "stream",
     "text": [
      "100%|██████████| 33/33 [00:00<00:00, 149.05it/s]\n"
     ]
    }
   ],
   "source": [
    "from tqdm import tqdm\n",
    "\n",
    "\n",
    "# init hsic model class\n",
    "hsic_model = ModelParams()\n",
    "\n",
    "# results dataframe\n",
    "gamma_ests = list()\n",
    "\n",
    "\n",
    "# run experiment\n",
    "for iparams in tqdm(parameters):\n",
    "    \n",
    "    # estimate gamma\n",
    "    gamma_X = estimate_gamma(\n",
    "        X=inputs.X, \n",
    "        method=iparams['gamma_est'][0], \n",
    "        percent=iparams['gamma_est'][1], \n",
    "        scale=iparams['gamma_est'][2]\n",
    "    )\n",
    "    gamma_Y = estimate_gamma(\n",
    "        X=inputs.Y, \n",
    "        method=iparams['gamma_est'][0], \n",
    "        percent=iparams['gamma_est'][1], \n",
    "        scale=iparams['gamma_est'][2]\n",
    "    )\n",
    "    \n",
    "        \n",
    "\n",
    "\n",
    "    # hsic model params\n",
    "    hsic_model.gamma_X = gamma_X\n",
    "    hsic_model.gamma_Y = gamma_Y\n",
    "\n",
    "    # get hsic score\n",
    "    score = hsic_model.get_score(inputs.X, inputs.Y, iparams['scorer'])\n",
    "        \n",
    "        \n",
    "#         # init gamma estimator\n",
    "#         gamma_est = GammaParam(*imethod)\n",
    "        \n",
    "#         # initialize gamma\n",
    "#         gamma_init = get_gamma_init(X, Y, imethod[0], imethod[1])\n",
    "        \n",
    "#         # get hsic_value\n",
    "#         hsic_value = get_hsic(X, Y, iscorer, gamma_init, maximum=False)\n",
    "        \n",
    "        # append results to dataframe\n",
    "    gamma_ests.append(\n",
    "        pd.DataFrame({\n",
    "        'scorer': [iscorer],\n",
    "        'gamma_method': [gamma_est.method],\n",
    "        'gamma_scale': [gamma_est.scale],\n",
    "        'gamma_percent': [gamma_est.percent],\n",
    "        'gamma_X': [gamma_X],\n",
    "        'gamma_Y': [gamma_Y],\n",
    "        'score': [score],\n",
    "    }))\n",
    "        \n",
    "# results_df.head()"
   ]
  },
  {
   "cell_type": "code",
   "execution_count": 374,
   "metadata": {},
   "outputs": [],
   "source": [
    "gamma_ests_df = pd.concat(gamma_ests, ignore_index=True)"
   ]
  },
  {
   "cell_type": "code",
   "execution_count": 375,
   "metadata": {},
   "outputs": [
    {
     "data": {
      "text/html": [
       "<div>\n",
       "<style scoped>\n",
       "    .dataframe tbody tr th:only-of-type {\n",
       "        vertical-align: middle;\n",
       "    }\n",
       "\n",
       "    .dataframe tbody tr th {\n",
       "        vertical-align: top;\n",
       "    }\n",
       "\n",
       "    .dataframe thead th {\n",
       "        text-align: right;\n",
       "    }\n",
       "</style>\n",
       "<table border=\"1\" class=\"dataframe\">\n",
       "  <thead>\n",
       "    <tr style=\"text-align: right;\">\n",
       "      <th></th>\n",
       "      <th>scorer</th>\n",
       "      <th>gamma_method</th>\n",
       "      <th>gamma_scale</th>\n",
       "      <th>gamma_percent</th>\n",
       "      <th>gamma_X</th>\n",
       "      <th>gamma_Y</th>\n",
       "      <th>score</th>\n",
       "    </tr>\n",
       "  </thead>\n",
       "  <tbody>\n",
       "    <tr>\n",
       "      <th>28</th>\n",
       "      <td>cka</td>\n",
       "      <td>median</td>\n",
       "      <td>None</td>\n",
       "      <td>None</td>\n",
       "      <td>0.201849</td>\n",
       "      <td>0.240391</td>\n",
       "      <td>0.144038</td>\n",
       "    </tr>\n",
       "    <tr>\n",
       "      <th>29</th>\n",
       "      <td>cka</td>\n",
       "      <td>median</td>\n",
       "      <td>None</td>\n",
       "      <td>None</td>\n",
       "      <td>0.149283</td>\n",
       "      <td>0.183536</td>\n",
       "      <td>0.154599</td>\n",
       "    </tr>\n",
       "    <tr>\n",
       "      <th>30</th>\n",
       "      <td>cka</td>\n",
       "      <td>median</td>\n",
       "      <td>None</td>\n",
       "      <td>None</td>\n",
       "      <td>0.112474</td>\n",
       "      <td>0.142939</td>\n",
       "      <td>0.164639</td>\n",
       "    </tr>\n",
       "    <tr>\n",
       "      <th>31</th>\n",
       "      <td>cka</td>\n",
       "      <td>median</td>\n",
       "      <td>None</td>\n",
       "      <td>None</td>\n",
       "      <td>0.087687</td>\n",
       "      <td>0.116909</td>\n",
       "      <td>0.172534</td>\n",
       "    </tr>\n",
       "    <tr>\n",
       "      <th>32</th>\n",
       "      <td>cka</td>\n",
       "      <td>median</td>\n",
       "      <td>None</td>\n",
       "      <td>None</td>\n",
       "      <td>0.062305</td>\n",
       "      <td>0.082550</td>\n",
       "      <td>0.183174</td>\n",
       "    </tr>\n",
       "  </tbody>\n",
       "</table>\n",
       "</div>"
      ],
      "text/plain": [
       "   scorer gamma_method gamma_scale gamma_percent   gamma_X   gamma_Y     score\n",
       "28    cka       median        None          None  0.201849  0.240391  0.144038\n",
       "29    cka       median        None          None  0.149283  0.183536  0.154599\n",
       "30    cka       median        None          None  0.112474  0.142939  0.164639\n",
       "31    cka       median        None          None  0.087687  0.116909  0.172534\n",
       "32    cka       median        None          None  0.062305  0.082550  0.183174"
      ]
     },
     "execution_count": 375,
     "metadata": {},
     "output_type": "execute_result"
    }
   ],
   "source": [
    "gamma_ests_df.tail()"
   ]
  },
  {
   "cell_type": "code",
   "execution_count": 376,
   "metadata": {},
   "outputs": [],
   "source": [
    "from typing import List\n",
    "\n",
    "def plot_estimated_params(\n",
    "    ax, \n",
    "    gamma_est_df: pd.DataFrame, \n",
    "    gamma_estimators: List, \n",
    "    scorer: str\n",
    "):\n",
    "    # subset hsic method\n",
    "    df_ = gamma_est_df[gamma_est_df['scorer'] == scorer]\n",
    "    \n",
    "    # subset gamma estimators\n",
    "    for iestimator in gamma_estimators:\n",
    "        # subsets\n",
    "        sub_df = df_[df_['gamma_method'] == iestimator[0]]\n",
    "        if iestimator[1] is not None:\n",
    "            sub_df = sub_df[sub_df['gamma_percent'] == iestimator[1]]\n",
    "        if iestimator[2] is not None:\n",
    "            sub_df = sub_df[sub_df['gamma_scale'] == iestimator[2]]\n",
    "        \n",
    "        name = list(filter(None, iestimator))\n",
    "        name = '_'.join(str(i) for i in name)\n",
    "        ax.scatter(\n",
    "            sub_df.gamma_X, \n",
    "            sub_df.gamma_Y,\n",
    "            s=500, label=f\"{name}\", zorder=3, marker='.')\n",
    "\n",
    "    \n",
    "    return ax"
   ]
  },
  {
   "cell_type": "code",
   "execution_count": null,
   "metadata": {},
   "outputs": [],
   "source": [
    "\n",
    "# ==========================\n",
    "# Centered Kernel Alignment\n",
    "# ==========================\n",
    "scorer = 'cka'\n",
    "\n",
    "# Plot Grid\n",
    "fig, ax = plot_gamma_grid(param_df, scorer=scorer)\n",
    "\n",
    "# Plot points\n",
    "ax = plot_estimated_params(ax, gamma_ests_df, gamma_estimators, scorer, )\n",
    "\n",
    "ax.legend(ncol=1, fontsize=8)\n",
    "ax.set_xlabel(r'$\\gamma_X$')\n",
    "ax.set_ylabel(r'$\\gamma_Y$')\n",
    "ax.set_title(f'{scorer.upper()} Score, MI: {inputs.mutual_info:.2f}')\n",
    "plt.tight_layout()\n",
    "plt.show()"
   ]
  },
  {
   "cell_type": "markdown",
   "metadata": {},
   "source": [
    "### Viz - Combined Function\n"
   ]
  },
  {
   "cell_type": "code",
   "execution_count": null,
   "metadata": {},
   "outputs": [],
   "source": [
    "def plot_dist_params(param_df, gamma_ests_df, gamma_estimators, scorer: str):\n",
    "\n",
    "    # Plot Grid\n",
    "    fig, ax = plot_gamma_grid(param_df, scorer=scorer)\n",
    "\n",
    "    # Plot points\n",
    "    ax = plot_estimated_params(ax, gamma_ests_df, gamma_estimators, scorer, )\n",
    "\n",
    "    ax.legend(ncol=1, fontsize=8)\n",
    "    ax.set_xlabel(r'$\\gamma_X$')\n",
    "    ax.set_ylabel(r'$\\gamma_Y$')\n",
    "    ax.set_title(f'{scorer.upper()} Score, MI: {inputs.mutual_info:.2f}')\n",
    "    plt.tight_layout()\n",
    "    plt.show()"
   ]
  },
  {
   "cell_type": "code",
   "execution_count": null,
   "metadata": {},
   "outputs": [],
   "source": [
    "\n",
    "plot_dist_params(param_df, gamma_ests_df, gamma_estimators, 'hsic')\n",
    "plot_dist_params(param_df, gamma_ests_df, gamma_estimators, 'ka')\n",
    "plot_dist_params(param_df, gamma_ests_df, gamma_estimators, 'cka')\n"
   ]
  },
  {
   "cell_type": "code",
   "execution_count": null,
   "metadata": {},
   "outputs": [],
   "source": []
  }
 ],
 "metadata": {
  "kernelspec": {
   "display_name": "Python [conda env:.conda-hsic_align]",
   "language": "python",
   "name": "conda-env-.conda-hsic_align-py"
  },
  "language_info": {
   "codemirror_mode": {
    "name": "ipython",
    "version": 3
   },
   "file_extension": ".py",
   "mimetype": "text/x-python",
   "name": "python",
   "nbconvert_exporter": "python",
   "pygments_lexer": "ipython3",
   "version": "3.8.2"
  }
 },
 "nbformat": 4,
 "nbformat_minor": 4
}
